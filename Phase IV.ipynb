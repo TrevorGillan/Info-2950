{
 "cells": [
  {
   "cell_type": "code",
   "execution_count": 24,
   "metadata": {},
   "outputs": [],
   "source": [
    "# Imports\n",
    "import pandas as pd\n",
    "import numpy as np\n",
    "import matplotlib.pyplot as plt\n",
    "from scipy import stats\n",
    "import seaborn as sns\n",
    "from   sklearn.linear_model import LinearRegression"
   ]
  },
  {
   "cell_type": "code",
   "execution_count": null,
   "metadata": {},
   "outputs": [],
   "source": [
    "# Upload Data\n",
    "ufc = pd.read_csv('clean_ufc.csv')"
   ]
  },
  {
   "cell_type": "markdown",
   "metadata": {},
   "source": [
    "### Introduction\n",
    "The Ultimate Fighting Championship is the greatest sporting league ever. It is simply riveting to watch two trained assassins step into a caged Octagon and attempt to legally kill each other. Whole careers can be decided by one decisive punch and that element of unpredictability is what makes the sport so damn entertaining. But, can we tame this unpredictability using the power of computing and data science. My research question is can we build a model that predicts fight outcomes well enough that it would have historically won money using Las Vegas Gambling Odds. \n",
    "* What are your main findings? No\n",
    "* Include a brief summary of your results. No"
   ]
  },
  {
   "cell_type": "markdown",
   "metadata": {},
   "source": [
    "#### Data Description\n",
    "1. What are the observations and the attributes?   \n",
    "Each observation is one fighter in one bout. The attributes capture the statistics that were available at the time of the event for each fighter. Most of the information is the rate of a certain action per fifteen minutes. For example, column B_avg_SIG_STR_landed displays a fighter’s significant strikes landed per fifteen minutes. \n",
    "1. Why was this dataset created?     \n",
    "The dataset was created on Kaggle and it hosts competitions for predicting the outcomes for upcoming UFC fights. There are several authors and the most prominent custodian, Matt Dabbert a graduate student at ASU, web scraped the gambling data in the hopes of creating a profitable UFC gambling algorithm using machine learning. \n",
    "1. Who funded the creation of the dataset?    \n",
    "The raw data comes from UFCStats.com or sportsbets.com. Sportsbets.com is a online sportsbooks that makes money through setting gambling lines where they are likely to make money. The UFC hosts and televises fights and keeping record is an important part of nerdy fan interaction with the sport. The data scientists that cobbled the dataset together did not state that they were compensated. However, I'd imagine that Matt Dabbert is hoping to create a profitable betting algorithm. \n",
    "1. What processes might have influenced what data was observed and recorded and what was not?    \n",
    "The UFC is where only well-established fighters perform. All the fighters listed in the dataset have an extensive amateur career that is not included.  The data from any fight outside of the UFC is not considered because there is no central Mixed Martial arts database and other organizations have different rules that would affect a fighter’s data. \n",
    "1. What preprocessing was done, and how did the data come to be in the form that you are using?    \n",
    "The dataset comes from three different datasets that were combined. Rajeev Warrier’s dataset was the original dataset, and it contains data for every bout from 1993-2019. Before 2010, the data was improperly recorded and is not included in the final version. Mart Jurisoo compiled the ranking for every fighter. Matthew Dabbert scraped the gambling dataset and concatenated the three together to create the final version. On Kaggle, it lists thirty two unique contributors to the dataset but does not state their individual contributions. \n",
    "1. If people are involved, were they aware of the data collection and if so, what purpose did they expect the data to be used for?    \n",
    "It is not clear whether the fighters were aware of the data collection. I am assuming they are indifferent because they voluntarily put themselves in an incredibly vulnerable position where the whole world can watch them get absolutely embarassed. As a result, I do not think they would have qualms over their fight data being shared. \n",
    "1. Where can your raw source data be found, if applicable? Provide a link to the raw data? <br/> \n",
    "There have been over 500 UFC events and Dabbert scraped the statistics from an html file from each event. Since I did not think it would be a good use of time to manually download every html file and transfer it to Cornell Box, here is a link to the github page where all the raw source data is housed: https://github.com/shortlikeafox/tiger-millionaire/tree/master/scrape_all_events/event_webpages \n",
    "1. If others want to extend/augment/build on/contribute to the dataset, is there a mechanism for them to do so? <br/>\n",
    "Yes, the data is publicly available on Github. Different users can suggest updates and even send the custodian different versions of the dataset that are posted by the owner. Ultimately, Matthew Dabbert has jurisdiction of how the dataset changes. \n",
    "1. Has the dataset been used for any tasks already? <br/>\n",
    "Community members have used the dataset to create visualizations for data reports. The goal of the dataset is to be a public site to merge all UFC datasets. Some users have selectively taken parts of the dataset and combined with their smaller datasets to create specialized fight datasets. \n",
    "1. What (other) tasks could the dataset be used for? <br/>\n",
    "The dataset might be useful to UFC executives if they are trying to determine whether a fighter will retire. This is important information because fighters often sign multi-fight contracts and if they retire early, the UFC can lose money on that contract. "
   ]
  },
  {
   "cell_type": "markdown",
   "metadata": {},
   "source": [
    "### Pre-registration statement\n",
    "##### Multiple Regression Analysis\n",
    "* I will preform a multiple regression analysis with four variables that have the highest level of correlation with a fighter winning. I will subset the last hundred UFC fights in the dataset for the the test split and the rest of the dataset will be used for training the regression model. The regression model will be used to predict fight outcomes. I  I will bet one hundred dollars on each fighter that is predicted to win. Then I will calculate the profits that I would earn using the predictions. Then using a permutation test I see whether the results are significant. "
   ]
  },
  {
   "cell_type": "markdown",
   "metadata": {},
   "source": [
    "### Data Analysis\n",
    "* Use summary functions like mean and standard deviation along with visual displays like scatterplots and histograms to describe data.\n",
    "* Provide at least one model showing patterns or relationships between variables that addresses your research question. This could be a regression or clustering, or something else that measures some property of the dataset."
   ]
  },
  {
   "cell_type": "code",
   "execution_count": 25,
   "metadata": {},
   "outputs": [],
   "source": [
    "# Upload Data\n",
    "ufc = pd.read_csv('clean_ufc.csv')"
   ]
  },
  {
   "cell_type": "code",
   "execution_count": 26,
   "metadata": {},
   "outputs": [
    {
     "data": {
      "image/png": "[encoded data removed]",
      "text/plain": [
       "<Figure size 430x360 with 1 Axes>"
      ]
     },
     "metadata": {
      "needs_background": "light"
     },
     "output_type": "display_data"
    }
   ],
   "source": [
    "# Scatter plot for odds and potential winnings\n",
    "sns.relplot(x='odds', y='ev', alpha = .6, hue='winner', palette = ('Red', 'Blue'), data=ufc)\n",
    "plt.xlabel('Gambling Odds')\n",
    "plt.ylabel('Winnings From $100 Bet')\n",
    "plt.title('Potential Winnings vs Gambling Odds')\n",
    "plt.show()"
   ]
  },
  {
   "cell_type": "markdown",
   "metadata": {},
   "source": [
    "#### Explanation of Gambling Odds\n",
    "The gambling odds model the probability that a fighter will win in terms of how much money a gambler will win if there chosen fighter wins. If a gambler bets \\\\$100 on a fighter with +500 odds, they will win \\\\$500 given that the fighter wins. The reason payoff is high relative to the bet is because Las Vegas thinks the fighter has a low probability of winning. Negative gambling odds work a little differently. When a fighter has -500 odds, that means a gambler would have to wager \\\\$500 to win \\\\$100 because that the chosen fighter is a heavy favorite to win. \n",
    "#### Why does the distribution look like this? \n",
    "The diagram above shows the relationship between potential winnings and gambling lines. There tends to be more red winners because the \"red\" fighter is the more established fighter and is normally expected to win. Also, the payoffs on underdogs is much greater than the pay offs on favorites. This is important for our model because we should prioritize choosing underdogs because they earn higher payoffs. "
   ]
  },
  {
   "cell_type": "code",
   "execution_count": 57,
   "metadata": {},
   "outputs": [
    {
     "name": "stderr",
     "output_type": "stream",
     "text": [
      "<ipython-input-57-87d4f9e6f04d>:3: UserWarning: Boolean Series key will be reindexed to match DataFrame index.\n",
      "  fav_win = win[ufc['status'] == 'favorite']\n",
      "<ipython-input-57-87d4f9e6f04d>:4: UserWarning: Boolean Series key will be reindexed to match DataFrame index.\n",
      "  und_win = win[ufc['status'] == 'underdog']\n"
     ]
    }
   ],
   "source": [
    "# Create a dataset whether fighter is favorites that win vs underdogs that win\n",
    "win = ufc[ufc['win_dum'] == 1]\n",
    "fav_win = win[ufc['status'] == 'favorite']\n",
    "und_win = win[ufc['status'] == 'underdog']\n",
    "x_axis = ['Underdog', 'Favorite']\n",
    "y_axis = [((len(und_win) / 1003) * 100), ((len(fav_win) / 1003) * 100)]"
   ]
  },
  {
   "cell_type": "code",
   "execution_count": 58,
   "metadata": {},
   "outputs": [],
   "source": [
    "# Finding average return on different winners\n",
    "average_fav_value = fav_win['ev'].mean()\n",
    "average_und_value = und_win['ev'].mean()\n",
    "y2_axis = [average_und_value, average_fav_value]"
   ]
  },
  {
   "cell_type": "code",
   "execution_count": 59,
   "metadata": {},
   "outputs": [
    {
     "data": {
      "image/png": "[encoded data removed]",
      "text/plain": [
       "<Figure size 1080x504 with 2 Axes>"
      ]
     },
     "metadata": {
      "needs_background": "light"
     },
     "output_type": "display_data"
    }
   ],
   "source": [
    "# Histogram for winning red vs blue\n",
    "# Add red for red winners and blue for blue winners\n",
    "plt.figure(figsize=(15,7))\n",
    "plt.subplot(1,2,1)\n",
    "sns.countplot(ufc['winner'], palette = ('Red', 'Blue'), data=ufc)\n",
    "plt.xlabel('Fighter Corner')\n",
    "plt.ylabel('Fights Won')\n",
    "plt.title('Histogram for Red and Blue Winners')\n",
    "# Graph for winners that are underdogs and winners that are favorites by percentage?\n",
    "\n",
    "plt.subplot(1,2,2)\n",
    "plt.bar(x_axis, y_axis, color = ['purple', 'green'])\n",
    "plt.xlabel('Status')\n",
    "plt.ylabel('Probability(%)')\n",
    "plt.title('Probability of Winning For Underdogs and Favorites')\n",
    "\n",
    "plt.show()"
   ]
  },
  {
   "cell_type": "code",
   "execution_count": 70,
   "metadata": {},
   "outputs": [
    {
     "data": {
      "image/png": "[encoded data removed]",
      "text/plain": [
       "<Figure size 432x288 with 1 Axes>"
      ]
     },
     "metadata": {
      "needs_background": "light"
     },
     "output_type": "display_data"
    }
   ],
   "source": [
    "# Graph for average return on underdog winner and average return for favorite winner\n",
    "plt.bar(x_axis, y2_axis, color = ['Grey', 'Navy'])\n",
    "plt.ylabel('Money($)')\n",
    "plt.xlabel('Fighter Status')\n",
    "plt.title('Profit from a $100 Bet on a Winning Fighter')\n",
    "plt.show()"
   ]
  },
  {
   "cell_type": "code",
   "execution_count": 87,
   "metadata": {},
   "outputs": [],
   "source": [
    "ufc_corr = pd.DataFrame()\n",
    "for col in ufc.columns:\n",
    "    if ufc[col].dtype == 'float64':\n",
    "        ufc_corr[col] = ufc[col]"
   ]
  },
  {
   "cell_type": "code",
   "execution_count": 97,
   "metadata": {},
   "outputs": [
    {
     "data": {
      "text/html": [
       "<div>\n",
       "<style scoped>\n",
       "    .dataframe tbody tr th:only-of-type {\n",
       "        vertical-align: middle;\n",
       "    }\n",
       "\n",
       "    .dataframe tbody tr th {\n",
       "        vertical-align: top;\n",
       "    }\n",
       "\n",
       "    .dataframe thead th {\n",
       "        text-align: right;\n",
       "    }\n",
       "</style>\n",
       "<table border=\"1\" class=\"dataframe\">\n",
       "  <thead>\n",
       "    <tr style=\"text-align: right;\">\n",
       "      <th></th>\n",
       "      <th>col_name</th>\n",
       "      <th>col_corr</th>\n",
       "    </tr>\n",
       "  </thead>\n",
       "  <tbody>\n",
       "  </tbody>\n",
       "</table>\n",
       "</div>"
      ],
      "text/plain": [
       "Empty DataFrame\n",
       "Columns: [col_name, col_corr]\n",
       "Index: []"
      ]
     },
     "execution_count": 97,
     "metadata": {},
     "output_type": "execute_result"
    }
   ],
   "source": [
    "col_corr.head()"
   ]
  },
  {
   "cell_type": "code",
   "execution_count": 103,
   "metadata": {},
   "outputs": [],
   "source": [
    "# Create new dataframe with columns and correlation coefficients\n",
    "col_corr = pd.DataFrame(columns = ['col_name', 'corr'])\n",
    "for col in ufc_corr.columns:\n",
    "    corr = ufc['win_dum'].corr(ufc_corr[col])\n",
    "    new_row = {'col_name': col, 'corr': corr}\n",
    "    col_corr = col_corr.append(new_row, ignore_index=True)"
   ]
  },
  {
   "cell_type": "code",
   "execution_count": 106,
   "metadata": {},
   "outputs": [
    {
     "data": {
      "text/plain": [
       "pandas.core.frame.DataFrame"
      ]
     },
     "execution_count": 106,
     "metadata": {},
     "output_type": "execute_result"
    }
   ],
   "source": [
    "type(col_corr)"
   ]
  },
  {
   "cell_type": "code",
   "execution_count": 108,
   "metadata": {},
   "outputs": [
    {
     "data": {
      "text/html": [
       "<div>\n",
       "<style scoped>\n",
       "    .dataframe tbody tr th:only-of-type {\n",
       "        vertical-align: middle;\n",
       "    }\n",
       "\n",
       "    .dataframe tbody tr th {\n",
       "        vertical-align: top;\n",
       "    }\n",
       "\n",
       "    .dataframe thead th {\n",
       "        text-align: right;\n",
       "    }\n",
       "</style>\n",
       "<table border=\"1\" class=\"dataframe\">\n",
       "  <thead>\n",
       "    <tr style=\"text-align: right;\">\n",
       "      <th></th>\n",
       "      <th>col_name</th>\n",
       "      <th>corr</th>\n",
       "    </tr>\n",
       "  </thead>\n",
       "  <tbody>\n",
       "    <tr>\n",
       "      <th>54</th>\n",
       "      <td>odds</td>\n",
       "      <td>-0.377234</td>\n",
       "    </tr>\n",
       "    <tr>\n",
       "      <th>53</th>\n",
       "      <td>ev</td>\n",
       "      <td>-0.340515</td>\n",
       "    </tr>\n",
       "    <tr>\n",
       "      <th>30</th>\n",
       "      <td>age</td>\n",
       "      <td>-0.122519</td>\n",
       "    </tr>\n",
       "    <tr>\n",
       "      <th>39</th>\n",
       "      <td>win_by_decision_split</td>\n",
       "      <td>-0.102847</td>\n",
       "    </tr>\n",
       "  </tbody>\n",
       "</table>\n",
       "</div>"
      ],
      "text/plain": [
       "                 col_name      corr\n",
       "54                   odds -0.377234\n",
       "53                     ev -0.340515\n",
       "30                    age -0.122519\n",
       "39  win_by_decision_split -0.102847"
      ]
     },
     "execution_count": 108,
     "metadata": {},
     "output_type": "execute_result"
    }
   ],
   "source": [
    "# Sort \n",
    "sort_by_corr = col_corr.sort_values('corr')\n",
    "sort_by_corr.head(n=4)"
   ]
  },
  {
   "cell_type": "markdown",
   "metadata": {},
   "source": [
    "Now we have our four columns that are most highly correlated with a fighter winning or losing. Now time to plug into our multiple regression model. "
   ]
  },
  {
   "cell_type": "code",
   "execution_count": 109,
   "metadata": {},
   "outputs": [
    {
     "name": "stdout",
     "output_type": "stream",
     "text": [
      "Takedown Difference Regression Coefficient -0.000516885426846336\n",
      "Strike Difference Regression Coefficient -0.00027770850028200207\n",
      "Reach Difference Regression Coefficient -0.0036962884761124566\n",
      "Experience Difference Regression Coefficient -0.04690181206076676\n"
     ]
    }
   ],
   "source": [
    "# Linear regression using fight differences \n",
    "multi_model = LinearRegression()\n",
    "multi_model.fit(ufc[['odds', 'ev', 'age', 'win_by_decision_split']], ufc['win_dum'])\n",
    "print('Takedown Difference Regression Coefficient', multi_model.coef_[0])\n",
    "print('Strike Difference Regression Coefficient', multi_model.coef_[1])\n",
    "print('Reach Difference Regression Coefficient', multi_model.coef_[2])\n",
    "print('Experience Difference Regression Coefficient', multi_model.coef_[3])"
   ]
  },
  {
   "cell_type": "code",
   "execution_count": 122,
   "metadata": {},
   "outputs": [
    {
     "name": "stdout",
     "output_type": "stream",
     "text": [
      "Multiple Regression Correlation Coefficient: 0.39\n"
     ]
    }
   ],
   "source": [
    "# Correlation Coefficient for Multiple Regression Model\n",
    "multi_pred = multi_model.predict(ufc[['odds', 'ev', 'age', 'win_by_decision_split']])\n",
    "multi_corr = np.corrcoef(multi_pred, ufc['win_dum'])[0,1]\n",
    "print('Multiple Regression Correlation Coefficient: {:}'.format(round(multi_corr,2)))"
   ]
  },
  {
   "cell_type": "code",
   "execution_count": 127,
   "metadata": {},
   "outputs": [],
   "source": [
    "# Add column that holds multiple regression prediction\n",
    "ufc['multi_pred'] = multi_pred"
   ]
  },
  {
   "cell_type": "code",
   "execution_count": 133,
   "metadata": {},
   "outputs": [
    {
     "name": "stderr",
     "output_type": "stream",
     "text": [
      "<ipython-input-133-c9836cfe153a>:7: UserWarning: Boolean Series key will be reindexed to match DataFrame index.\n",
      "  ufc_correct = ufc_pred[ufc['win_dum'] == 1]\n"
     ]
    }
   ],
   "source": [
    "# Make new column for whether multiple regression predicts win or loss\n",
    "ufc['multi_dummy'] = 0\n",
    "for i in ufc.index:\n",
    "    if ufc.loc[i, 'multi_pred'] >= .5:\n",
    "        ufc.loc[i, 'multi_dummy'] = 1\n",
    "ufc_pred = ufc[ufc['multi_dummy'] == 1]\n",
    "ufc_correct = ufc_pred[ufc['win_dum'] == 1]"
   ]
  },
  {
   "cell_type": "code",
   "execution_count": 137,
   "metadata": {},
   "outputs": [],
   "source": [
    "perc_correct = (len(ufc_correct)/ 1003) * 100"
   ]
  },
  {
   "cell_type": "code",
   "execution_count": 138,
   "metadata": {},
   "outputs": [
    {
     "name": "stdout",
     "output_type": "stream",
     "text": [
      "Correct Percentage: 67.39780658025923\n"
     ]
    }
   ],
   "source": [
    "print('Correct Prediction Percentage: {:}'.format(perc_correct))"
   ]
  },
  {
   "cell_type": "code",
   "execution_count": 148,
   "metadata": {},
   "outputs": [
    {
     "name": "stdout",
     "output_type": "stream",
     "text": [
      "Profit from Bets: $-363.69\n"
     ]
    }
   ],
   "source": [
    "# Calculate Winnings\n",
    "revenue = (ufc_correct['ev'].sum())\n",
    "costs = ((1003-len(ufc_correct)) * 100)\n",
    "profit = revenue - costs\n",
    "print('Profit from Bets: ${:.2f}'.format(profit))"
   ]
  },
  {
   "cell_type": "code",
   "execution_count": 147,
   "metadata": {},
   "outputs": [
    {
     "name": "stdout",
     "output_type": "stream",
     "text": [
      "-363.6889967780007\n"
     ]
    }
   ],
   "source": []
  },
  {
   "cell_type": "code",
   "execution_count": 80,
   "metadata": {},
   "outputs": [
    {
     "name": "stdout",
     "output_type": "stream",
     "text": [
      "<class 'pandas.core.frame.DataFrame'>\n",
      "RangeIndex: 2006 entries, 0 to 2005\n",
      "Data columns (total 71 columns):\n",
      " #   Column                      Non-Null Count  Dtype  \n",
      "---  ------                      --------------  -----  \n",
      " 0   empty_arena                 2006 non-null   float64\n",
      " 1   constant_1                  2006 non-null   float64\n",
      " 2   avg_td_dif                  2006 non-null   float64\n",
      " 3   avg_sub_att_dif             2006 non-null   float64\n",
      " 4   sig_str_dif                 2006 non-null   float64\n",
      " 5   age_dif                     2006 non-null   float64\n",
      " 6   reach_dif                   2006 non-null   float64\n",
      " 7   height_dif                  2006 non-null   float64\n",
      " 8   sub_dif                     2006 non-null   float64\n",
      " 9   ko_dif                      2006 non-null   float64\n",
      " 10  total_title_bout_dif        2006 non-null   float64\n",
      " 11  total_round_dif             2006 non-null   float64\n",
      " 12  loss_dif                    2006 non-null   float64\n",
      " 13  win_dif                     2006 non-null   float64\n",
      " 14  longest_win_streak_dif      2006 non-null   float64\n",
      " 15  win_streak_dif              2006 non-null   float64\n",
      " 16  lose_streak_dif             2006 non-null   float64\n",
      " 17  td_landed_dif               2006 non-null   float64\n",
      " 18  rev_bout                    2006 non-null   float64\n",
      " 19  pass_bout                   2006 non-null   float64\n",
      " 20  sub_attempts_bout           2006 non-null   float64\n",
      " 21  td_pct_bout                 2006 non-null   float64\n",
      " 22  td_attempted_bout           2006 non-null   float64\n",
      " 23  td_landed_bout              2006 non-null   float64\n",
      " 24  tot_str_attempted_bout      2006 non-null   float64\n",
      " 25  tot_str_landed_bout         2006 non-null   float64\n",
      " 26  sig_str_pct_bout            2006 non-null   float64\n",
      " 27  sig_str_attempted_bout      2006 non-null   float64\n",
      " 28  sig_str_landed_bout         2006 non-null   float64\n",
      " 29  kd_bout                     2006 non-null   float64\n",
      " 30  age                         2006 non-null   float64\n",
      " 31  weight_lbs                  2006 non-null   float64\n",
      " 32  reach_cms                   2006 non-null   float64\n",
      " 33  height_cms                  2006 non-null   float64\n",
      " 34  stance                      2006 non-null   object \n",
      " 35  wins                        2006 non-null   float64\n",
      " 36  win_by_tko_doctor_stoppage  2006 non-null   float64\n",
      " 37  win_by_submission           2006 non-null   float64\n",
      " 38  win_by_ko/tko               2006 non-null   float64\n",
      " 39  win_by_decision_unanimous   2006 non-null   float64\n",
      " 40  win_by_decision_split       2006 non-null   float64\n",
      " 41  win_by_decision_majority    2006 non-null   float64\n",
      " 42  total_title_bouts           2006 non-null   float64\n",
      " 43  total_rounds_fought         2006 non-null   float64\n",
      " 44  losses                      2006 non-null   float64\n",
      " 45  longest_win_streak          2006 non-null   float64\n",
      " 46  avg_td_pct                  2006 non-null   float64\n",
      " 47  avg_td_landed               2006 non-null   float64\n",
      " 48  avg_sub_att                 2006 non-null   float64\n",
      " 49  avg_sig_str_pct             2006 non-null   float64\n",
      " 50  avg_sig_str_landed          2006 non-null   float64\n",
      " 51  draw                        2006 non-null   float64\n",
      " 52  current_win_streak          2006 non-null   float64\n",
      " 53  current_lose_streak         2006 non-null   float64\n",
      " 54  ev                          2006 non-null   float64\n",
      " 55  odds                        2006 non-null   float64\n",
      " 56  fighter                     2006 non-null   object \n",
      " 57  finish                      2006 non-null   object \n",
      " 58  finish_details              2006 non-null   object \n",
      " 59  finish_round                2006 non-null   float64\n",
      " 60  finish_round_time           2006 non-null   object \n",
      " 61  total_fight_time_secs       2006 non-null   float64\n",
      " 62  winner                      2006 non-null   object \n",
      " 63  title_bout                  2006 non-null   bool   \n",
      " 64  weight_class                2006 non-null   object \n",
      " 65  gender                      2006 non-null   object \n",
      " 66  no_of_rounds                2006 non-null   float64\n",
      " 67  win_dum                     2006 non-null   int64  \n",
      " 68  tter_rank                   1003 non-null   object \n",
      " 69  win_prob                    2006 non-null   float64\n",
      " 70  status                      2006 non-null   object \n",
      "dtypes: bool(1), float64(59), int64(1), object(10)\n",
      "memory usage: 1.1+ MB\n"
     ]
    }
   ],
   "source": [
    "# Leads into Multiple Regression Analysis With Appropiate Variables \n"
   ]
  },
  {
   "cell_type": "code",
   "execution_count": null,
   "metadata": {},
   "outputs": [],
   "source": []
  },
  {
   "cell_type": "markdown",
   "metadata": {},
   "source": [
    "### Evaluation of significance. \n",
    "\n",
    "* Use hypothesis tests, simulation, randomization, or any other techniques we have learned to compare the patterns you observe in the dataset to simple randomness. \n",
    "* For linear regression we can do a permutation test to see whether results are significant\n",
    "* Then use random method and see how likely outcomes is \n",
    "* Permutation you shuffle the data output(winning) and calculate certain statistics "
   ]
  },
  {
   "cell_type": "markdown",
   "metadata": {},
   "source": [
    "### Interpretation and Conclusions\n",
    "* What did you find over the course of your data analysis, and how confident are you in these conclusions? Detail your results more so than in the introduction, now that the reader is familiar with your methods and analysis. Interpret these results in the wider context of the real-life application from where your data hails."
   ]
  },
  {
   "cell_type": "markdown",
   "metadata": {},
   "source": [
    "### Limitations\n",
    "* What are the limitations of your study? What are the biases in your data or assumptions of your analyses that specifically affect the conclusions you’re able to draw?"
   ]
  },
  {
   "cell_type": "markdown",
   "metadata": {},
   "source": [
    "##### Data Limitations\n",
    "Other users have complained that the dataset mixes up which fighter is the red or blue fighter. This a problem because it would incorrectly swap the fighters' data. The sample size for most fighters is small. Most fighters only fight two times a year and because of the sport’s violent nature, they often have short careers. This leaves most fighters with only a couple fights that we can use to statistically evaluate them. "
   ]
  },
  {
   "cell_type": "markdown",
   "metadata": {},
   "source": [
    "### Source Code\n",
    "* Provide a link to your Github repository (or other file hosting site) that has all of your project code (if applicable). For example, you might include web scraping code or data filtering and aggregation code."
   ]
  },
  {
   "cell_type": "markdown",
   "metadata": {},
   "source": [
    "### Acknowledgments. \n",
    "* Recognize any people or online resources that you found helpful. These can be tutorials, software packages, Stack Overflow questions, peers, and data sources. "
   ]
  },
  {
   "cell_type": "markdown",
   "metadata": {},
   "source": [
    "### Question for Reviewers"
   ]
  }
 ],
 "metadata": {
  "kernelspec": {
   "display_name": "Python 3",
   "language": "python",
   "name": "python3"
  },
  "language_info": {
   "codemirror_mode": {
    "name": "ipython",
    "version": 3
   },
   "file_extension": ".py",
   "mimetype": "text/x-python",
   "name": "python",
   "nbconvert_exporter": "python",
   "pygments_lexer": "ipython3",
   "version": "3.8.3"
  }
 },
 "nbformat": 4,
 "nbformat_minor": 4
}
