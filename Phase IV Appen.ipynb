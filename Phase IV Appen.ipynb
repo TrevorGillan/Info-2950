{
 "cells": [
  {
   "cell_type": "markdown",
   "metadata": {},
   "source": [
    "<div align=center><h1>Phase IV Appendix</h1>"
   ]
  },
  {
   "cell_type": "code",
   "execution_count": 29,
   "metadata": {},
   "outputs": [],
   "source": [
    "# Imports\n",
    "import pandas as pd\n",
    "import numpy as np\n",
    "import matplotlib.pyplot as plt\n",
    "from scipy import stats"
   ]
  },
  {
   "cell_type": "markdown",
   "metadata": {},
   "source": [
    "<h5>Data Collection</h5>\n",
    "In the code cell above, we uploaded a UFC csv file. The upcoming-event csv contains the statistics from the most recent event that has not yet been merged with the rest of the data. "
   ]
  },
  {
   "cell_type": "code",
   "execution_count": 30,
   "metadata": {},
   "outputs": [
    {
     "data": {
      "text/html": [
       "<div>\n",
       "<style scoped>\n",
       "    .dataframe tbody tr th:only-of-type {\n",
       "        vertical-align: middle;\n",
       "    }\n",
       "\n",
       "    .dataframe tbody tr th {\n",
       "        vertical-align: top;\n",
       "    }\n",
       "\n",
       "    .dataframe thead th {\n",
       "        text-align: right;\n",
       "    }\n",
       "</style>\n",
       "<table border=\"1\" class=\"dataframe\">\n",
       "  <thead>\n",
       "    <tr style=\"text-align: right;\">\n",
       "      <th></th>\n",
       "      <th>R_fighter</th>\n",
       "      <th>B_fighter</th>\n",
       "      <th>R_odds</th>\n",
       "      <th>B_odds</th>\n",
       "      <th>R_ev</th>\n",
       "      <th>B_ev</th>\n",
       "      <th>date</th>\n",
       "      <th>location</th>\n",
       "      <th>country</th>\n",
       "      <th>Winner</th>\n",
       "      <th>...</th>\n",
       "      <th>R_td_attempted_bout</th>\n",
       "      <th>B_td_attempted_bout</th>\n",
       "      <th>R_td_pct_bout</th>\n",
       "      <th>B_td_pct_bout</th>\n",
       "      <th>R_sub_attempts_bout</th>\n",
       "      <th>B_sub_attempts_bout</th>\n",
       "      <th>R_pass_bout</th>\n",
       "      <th>B_pass_bout</th>\n",
       "      <th>R_rev_bout</th>\n",
       "      <th>B_rev_bout</th>\n",
       "    </tr>\n",
       "  </thead>\n",
       "  <tbody>\n",
       "    <tr>\n",
       "      <th>0</th>\n",
       "      <td>Kamaru Usman</td>\n",
       "      <td>Gilbert Burns</td>\n",
       "      <td>-278.0</td>\n",
       "      <td>228.0</td>\n",
       "      <td>35.97122302</td>\n",
       "      <td>228.000000</td>\n",
       "      <td>2/13/21</td>\n",
       "      <td>Las Vegas, Nevada, USA</td>\n",
       "      <td>USA</td>\n",
       "      <td>NaN</td>\n",
       "      <td>...</td>\n",
       "      <td>NaN</td>\n",
       "      <td>NaN</td>\n",
       "      <td>NaN</td>\n",
       "      <td>NaN</td>\n",
       "      <td>NaN</td>\n",
       "      <td>NaN</td>\n",
       "      <td>NaN</td>\n",
       "      <td>NaN</td>\n",
       "      <td>NaN</td>\n",
       "      <td>NaN</td>\n",
       "    </tr>\n",
       "    <tr>\n",
       "      <th>1</th>\n",
       "      <td>Maycee Barber</td>\n",
       "      <td>Alexa Grasso</td>\n",
       "      <td>-107.0</td>\n",
       "      <td>-107.0</td>\n",
       "      <td>93.45794393</td>\n",
       "      <td>93.457944</td>\n",
       "      <td>2/13/21</td>\n",
       "      <td>Las Vegas, Nevada, USA</td>\n",
       "      <td>USA</td>\n",
       "      <td>NaN</td>\n",
       "      <td>...</td>\n",
       "      <td>NaN</td>\n",
       "      <td>NaN</td>\n",
       "      <td>NaN</td>\n",
       "      <td>NaN</td>\n",
       "      <td>NaN</td>\n",
       "      <td>NaN</td>\n",
       "      <td>NaN</td>\n",
       "      <td>NaN</td>\n",
       "      <td>NaN</td>\n",
       "      <td>NaN</td>\n",
       "    </tr>\n",
       "    <tr>\n",
       "      <th>2</th>\n",
       "      <td>Kelvin Gastelum</td>\n",
       "      <td>Ian Heinisch</td>\n",
       "      <td>-205.0</td>\n",
       "      <td>174.0</td>\n",
       "      <td>48.7804878</td>\n",
       "      <td>174.000000</td>\n",
       "      <td>2/13/21</td>\n",
       "      <td>Las Vegas, Nevada, USA</td>\n",
       "      <td>USA</td>\n",
       "      <td>NaN</td>\n",
       "      <td>...</td>\n",
       "      <td>NaN</td>\n",
       "      <td>NaN</td>\n",
       "      <td>NaN</td>\n",
       "      <td>NaN</td>\n",
       "      <td>NaN</td>\n",
       "      <td>NaN</td>\n",
       "      <td>NaN</td>\n",
       "      <td>NaN</td>\n",
       "      <td>NaN</td>\n",
       "      <td>NaN</td>\n",
       "    </tr>\n",
       "    <tr>\n",
       "      <th>3</th>\n",
       "      <td>Ricky Simon</td>\n",
       "      <td>Brian Kelleher</td>\n",
       "      <td>-253.0</td>\n",
       "      <td>210.0</td>\n",
       "      <td>39.5256917</td>\n",
       "      <td>210.000000</td>\n",
       "      <td>2/13/21</td>\n",
       "      <td>Las Vegas, Nevada, USA</td>\n",
       "      <td>USA</td>\n",
       "      <td>NaN</td>\n",
       "      <td>...</td>\n",
       "      <td>NaN</td>\n",
       "      <td>NaN</td>\n",
       "      <td>NaN</td>\n",
       "      <td>NaN</td>\n",
       "      <td>NaN</td>\n",
       "      <td>NaN</td>\n",
       "      <td>NaN</td>\n",
       "      <td>NaN</td>\n",
       "      <td>NaN</td>\n",
       "      <td>NaN</td>\n",
       "    </tr>\n",
       "    <tr>\n",
       "      <th>4</th>\n",
       "      <td>Maki Pitolo</td>\n",
       "      <td>Julian Marquez</td>\n",
       "      <td>145.0</td>\n",
       "      <td>-177.0</td>\n",
       "      <td>145</td>\n",
       "      <td>56.497175</td>\n",
       "      <td>2/13/21</td>\n",
       "      <td>Las Vegas, Nevada, USA</td>\n",
       "      <td>USA</td>\n",
       "      <td>NaN</td>\n",
       "      <td>...</td>\n",
       "      <td>NaN</td>\n",
       "      <td>NaN</td>\n",
       "      <td>NaN</td>\n",
       "      <td>NaN</td>\n",
       "      <td>NaN</td>\n",
       "      <td>NaN</td>\n",
       "      <td>NaN</td>\n",
       "      <td>NaN</td>\n",
       "      <td>NaN</td>\n",
       "      <td>NaN</td>\n",
       "    </tr>\n",
       "  </tbody>\n",
       "</table>\n",
       "<p>5 rows × 137 columns</p>\n",
       "</div>"
      ],
      "text/plain": [
       "         R_fighter       B_fighter  R_odds  B_odds         R_ev        B_ev  \\\n",
       "0     Kamaru Usman   Gilbert Burns  -278.0   228.0  35.97122302  228.000000   \n",
       "1    Maycee Barber    Alexa Grasso  -107.0  -107.0  93.45794393   93.457944   \n",
       "2  Kelvin Gastelum    Ian Heinisch  -205.0   174.0   48.7804878  174.000000   \n",
       "3      Ricky Simon  Brian Kelleher  -253.0   210.0   39.5256917  210.000000   \n",
       "4      Maki Pitolo  Julian Marquez   145.0  -177.0          145   56.497175   \n",
       "\n",
       "      date                location country Winner  ... R_td_attempted_bout  \\\n",
       "0  2/13/21  Las Vegas, Nevada, USA     USA    NaN  ...                 NaN   \n",
       "1  2/13/21  Las Vegas, Nevada, USA     USA    NaN  ...                 NaN   \n",
       "2  2/13/21  Las Vegas, Nevada, USA     USA    NaN  ...                 NaN   \n",
       "3  2/13/21  Las Vegas, Nevada, USA     USA    NaN  ...                 NaN   \n",
       "4  2/13/21  Las Vegas, Nevada, USA     USA    NaN  ...                 NaN   \n",
       "\n",
       "  B_td_attempted_bout R_td_pct_bout  B_td_pct_bout  R_sub_attempts_bout  \\\n",
       "0                 NaN           NaN            NaN                  NaN   \n",
       "1                 NaN           NaN            NaN                  NaN   \n",
       "2                 NaN           NaN            NaN                  NaN   \n",
       "3                 NaN           NaN            NaN                  NaN   \n",
       "4                 NaN           NaN            NaN                  NaN   \n",
       "\n",
       "   B_sub_attempts_bout  R_pass_bout  B_pass_bout  R_rev_bout  B_rev_bout  \n",
       "0                  NaN          NaN          NaN         NaN         NaN  \n",
       "1                  NaN          NaN          NaN         NaN         NaN  \n",
       "2                  NaN          NaN          NaN         NaN         NaN  \n",
       "3                  NaN          NaN          NaN         NaN         NaN  \n",
       "4                  NaN          NaN          NaN         NaN         NaN  \n",
       "\n",
       "[5 rows x 137 columns]"
      ]
     },
     "execution_count": 30,
     "metadata": {},
     "output_type": "execute_result"
    }
   ],
   "source": [
    "# Upload Old UFC Data\n",
    "old_data = pd.read_csv(\"ufc-master.csv\", low_memory=False)\n",
    "\n",
    "# Upload UFC Data From Recent Fights\n",
    "merge_data = pd.read_csv(\"upcoming-event.csv\", low_memory=False)\n",
    "\n",
    "# Merge Dataframes and Display with Head\n",
    "frames = [merge_data, old_data]\n",
    "ufc_data = pd.concat(frames)\n",
    "ufc_data.head()"
   ]
  },
  {
   "cell_type": "markdown",
   "metadata": {},
   "source": [
    "<h5>Data Cleaning: Removing Columns</h5>\n",
    "The original dataset has 137 columns and I am removing those that I suspect won't be useful in predicting fight outcomes like fight location or date. I removed some columns that might be useful but only for a small number of fighters. For example, only the top 15 fighters are given a pound for pound ranking and the vast majority of fighters are not ranked in this category. I did not want to consider the fighter's rankings because they are subjective, only some fighters are ranked, and the rankings can be distorted if there a lot of inactive fighters in that weight class. "
   ]
  },
  {
   "cell_type": "code",
   "execution_count": 31,
   "metadata": {},
   "outputs": [
    {
     "name": "stdout",
     "output_type": "stream",
     "text": [
      "Old Column Count: 137\n",
      "New Column Count: 106\n"
     ]
    }
   ],
   "source": [
    "old_col_count = ufc_data.shape\n",
    "drop_col = ['date', 'location', 'country', 'B_match_weightclass_rank', 'R_match_weightclass_rank', \n",
    "            \"R_Women's Flyweight_rank\", \"B_Women's Flyweight_rank\", \"B_Women's Featherweight_rank\", \n",
    "            \"R_Women's Featherweight_rank\", \"R_Women's Strawweight_rank\", \"B_Women's Strawweight_rank\",\n",
    "            \"B_Women's Bantamweight_rank\", \"R_Women's Bantamweight_rank\", 'B_Heavyweight_rank', \n",
    "            'R_Heavyweight_rank', 'B_Light Heavyweight_rank', 'R_Light Heavyweight_rank',\n",
    "            'B_Middleweight_rank', 'R_Middleweight_rank', 'B_Welterweight_rank', 'R_Welterweight_rank', \n",
    "            'B_Lightweight_rank', 'R_Lightweight_rank', 'B_Featherweight_rank', 'R_Featherweight_rank', \n",
    "            'B_Bantamweight_rank', 'R_Bantamweight_rank', 'B_Flyweight_rank', 'R_Flyweight_rank',\n",
    "            'B_Pound-for-Pound_rank', 'R_Pound-for-Pound_rank']\n",
    "ufc_data = ufc_data.drop(drop_col, axis=1)\n",
    "new_col_count = ufc_data.shape\n",
    "print('Old Column Count: {}'.format(old_col_count[1]))\n",
    "print('New Column Count: {}'.format(new_col_count[1]))"
   ]
  },
  {
   "cell_type": "markdown",
   "metadata": {},
   "source": [
    "<h5>Data Cleaning: Removing Rows</h5>\n",
    "The dataset contains many rows that are not completed. I will be removing those rows because I think the rest of the columns have the ability to help predict fight outcomes. "
   ]
  },
  {
   "cell_type": "code",
   "execution_count": 32,
   "metadata": {},
   "outputs": [],
   "source": [
    "# Drop all rows that are not completed. \n",
    "ufc_data = ufc_data.dropna(axis=0, how='any')\n",
    "ufc_data = ufc_data.reset_index()\n",
    "ufc_data = ufc_data.drop('index', axis=1)"
   ]
  },
  {
   "cell_type": "code",
   "execution_count": 33,
   "metadata": {},
   "outputs": [
    {
     "name": "stdout",
     "output_type": "stream",
     "text": [
      "[]\n"
     ]
    }
   ],
   "source": [
    "# No empty cells are left in dataframe\n",
    "empty = np.where(pd.isnull(ufc_data))\n",
    "print(empty[0])"
   ]
  },
  {
   "cell_type": "code",
   "execution_count": 34,
   "metadata": {},
   "outputs": [
    {
     "name": "stdout",
     "output_type": "stream",
     "text": [
      "Bytes: 850672\n"
     ]
    }
   ],
   "source": [
    "# How Big is the Dataset After Cleaning\n",
    "print('Bytes: {}'.format(ufc_data.memory_usage(index=True).sum()))"
   ]
  },
  {
   "cell_type": "code",
   "execution_count": 35,
   "metadata": {},
   "outputs": [
    {
     "name": "stdout",
     "output_type": "stream",
     "text": [
      "# of Rows: 1003\n",
      "# of Columns: 106\n"
     ]
    },
    {
     "data": {
      "text/html": [
       "<div>\n",
       "<style scoped>\n",
       "    .dataframe tbody tr th:only-of-type {\n",
       "        vertical-align: middle;\n",
       "    }\n",
       "\n",
       "    .dataframe tbody tr th {\n",
       "        vertical-align: top;\n",
       "    }\n",
       "\n",
       "    .dataframe thead th {\n",
       "        text-align: right;\n",
       "    }\n",
       "</style>\n",
       "<table border=\"1\" class=\"dataframe\">\n",
       "  <thead>\n",
       "    <tr style=\"text-align: right;\">\n",
       "      <th></th>\n",
       "      <th>R_fighter</th>\n",
       "      <th>B_fighter</th>\n",
       "      <th>R_odds</th>\n",
       "      <th>B_odds</th>\n",
       "      <th>R_ev</th>\n",
       "      <th>B_ev</th>\n",
       "      <th>Winner</th>\n",
       "      <th>title_bout</th>\n",
       "      <th>weight_class</th>\n",
       "      <th>gender</th>\n",
       "      <th>...</th>\n",
       "      <th>R_td_attempted_bout</th>\n",
       "      <th>B_td_attempted_bout</th>\n",
       "      <th>R_td_pct_bout</th>\n",
       "      <th>B_td_pct_bout</th>\n",
       "      <th>R_sub_attempts_bout</th>\n",
       "      <th>B_sub_attempts_bout</th>\n",
       "      <th>R_pass_bout</th>\n",
       "      <th>B_pass_bout</th>\n",
       "      <th>R_rev_bout</th>\n",
       "      <th>B_rev_bout</th>\n",
       "    </tr>\n",
       "  </thead>\n",
       "  <tbody>\n",
       "    <tr>\n",
       "      <th>0</th>\n",
       "      <td>Petr Yan</td>\n",
       "      <td>Jose Aldo</td>\n",
       "      <td>-215.0</td>\n",
       "      <td>175.0</td>\n",
       "      <td>46.5116</td>\n",
       "      <td>175.0</td>\n",
       "      <td>Red</td>\n",
       "      <td>True</td>\n",
       "      <td>Bantamweight</td>\n",
       "      <td>MALE</td>\n",
       "      <td>...</td>\n",
       "      <td>2.0</td>\n",
       "      <td>1.0</td>\n",
       "      <td>0.5</td>\n",
       "      <td>0.0</td>\n",
       "      <td>0.0</td>\n",
       "      <td>0.0</td>\n",
       "      <td>1.0</td>\n",
       "      <td>0.0</td>\n",
       "      <td>0.0</td>\n",
       "      <td>0.0</td>\n",
       "    </tr>\n",
       "    <tr>\n",
       "      <th>1</th>\n",
       "      <td>Amanda Ribas</td>\n",
       "      <td>Paige VanZant</td>\n",
       "      <td>-770.0</td>\n",
       "      <td>500.0</td>\n",
       "      <td>12.987</td>\n",
       "      <td>500.0</td>\n",
       "      <td>Red</td>\n",
       "      <td>False</td>\n",
       "      <td>Women's Flyweight</td>\n",
       "      <td>FEMALE</td>\n",
       "      <td>...</td>\n",
       "      <td>1.0</td>\n",
       "      <td>0.0</td>\n",
       "      <td>1.0</td>\n",
       "      <td>0.0</td>\n",
       "      <td>1.0</td>\n",
       "      <td>0.0</td>\n",
       "      <td>1.0</td>\n",
       "      <td>0.0</td>\n",
       "      <td>0.0</td>\n",
       "      <td>0.0</td>\n",
       "    </tr>\n",
       "    <tr>\n",
       "      <th>2</th>\n",
       "      <td>Volkan Oezdemir</td>\n",
       "      <td>Jiri Prochazka</td>\n",
       "      <td>-159.0</td>\n",
       "      <td>129.0</td>\n",
       "      <td>62.8931</td>\n",
       "      <td>129.0</td>\n",
       "      <td>Blue</td>\n",
       "      <td>False</td>\n",
       "      <td>Light Heavyweight</td>\n",
       "      <td>MALE</td>\n",
       "      <td>...</td>\n",
       "      <td>1.0</td>\n",
       "      <td>0.0</td>\n",
       "      <td>0.0</td>\n",
       "      <td>0.0</td>\n",
       "      <td>0.0</td>\n",
       "      <td>0.0</td>\n",
       "      <td>0.0</td>\n",
       "      <td>0.0</td>\n",
       "      <td>0.0</td>\n",
       "      <td>0.0</td>\n",
       "    </tr>\n",
       "    <tr>\n",
       "      <th>3</th>\n",
       "      <td>Makwan Amirkhani</td>\n",
       "      <td>Danny Henry</td>\n",
       "      <td>-215.0</td>\n",
       "      <td>170.0</td>\n",
       "      <td>46.5116</td>\n",
       "      <td>170.0</td>\n",
       "      <td>Red</td>\n",
       "      <td>False</td>\n",
       "      <td>Featherweight</td>\n",
       "      <td>MALE</td>\n",
       "      <td>...</td>\n",
       "      <td>1.0</td>\n",
       "      <td>0.0</td>\n",
       "      <td>1.0</td>\n",
       "      <td>0.0</td>\n",
       "      <td>1.0</td>\n",
       "      <td>0.0</td>\n",
       "      <td>0.0</td>\n",
       "      <td>0.0</td>\n",
       "      <td>0.0</td>\n",
       "      <td>0.0</td>\n",
       "    </tr>\n",
       "    <tr>\n",
       "      <th>4</th>\n",
       "      <td>Martin Day</td>\n",
       "      <td>Davey Grant</td>\n",
       "      <td>-162.0</td>\n",
       "      <td>130.0</td>\n",
       "      <td>61.7284</td>\n",
       "      <td>130.0</td>\n",
       "      <td>Blue</td>\n",
       "      <td>False</td>\n",
       "      <td>Bantamweight</td>\n",
       "      <td>MALE</td>\n",
       "      <td>...</td>\n",
       "      <td>1.0</td>\n",
       "      <td>4.0</td>\n",
       "      <td>0.0</td>\n",
       "      <td>0.5</td>\n",
       "      <td>0.0</td>\n",
       "      <td>1.0</td>\n",
       "      <td>0.0</td>\n",
       "      <td>1.0</td>\n",
       "      <td>1.0</td>\n",
       "      <td>0.0</td>\n",
       "    </tr>\n",
       "  </tbody>\n",
       "</table>\n",
       "<p>5 rows × 106 columns</p>\n",
       "</div>"
      ],
      "text/plain": [
       "          R_fighter       B_fighter  R_odds  B_odds     R_ev   B_ev Winner  \\\n",
       "0          Petr Yan       Jose Aldo  -215.0   175.0  46.5116  175.0    Red   \n",
       "1      Amanda Ribas   Paige VanZant  -770.0   500.0   12.987  500.0    Red   \n",
       "2   Volkan Oezdemir  Jiri Prochazka  -159.0   129.0  62.8931  129.0   Blue   \n",
       "3  Makwan Amirkhani     Danny Henry  -215.0   170.0  46.5116  170.0    Red   \n",
       "4        Martin Day     Davey Grant  -162.0   130.0  61.7284  130.0   Blue   \n",
       "\n",
       "  title_bout       weight_class  gender  ...  R_td_attempted_bout  \\\n",
       "0       True       Bantamweight    MALE  ...                  2.0   \n",
       "1      False  Women's Flyweight  FEMALE  ...                  1.0   \n",
       "2      False  Light Heavyweight    MALE  ...                  1.0   \n",
       "3      False      Featherweight    MALE  ...                  1.0   \n",
       "4      False       Bantamweight    MALE  ...                  1.0   \n",
       "\n",
       "   B_td_attempted_bout  R_td_pct_bout  B_td_pct_bout  R_sub_attempts_bout  \\\n",
       "0                  1.0            0.5            0.0                  0.0   \n",
       "1                  0.0            1.0            0.0                  1.0   \n",
       "2                  0.0            0.0            0.0                  0.0   \n",
       "3                  0.0            1.0            0.0                  1.0   \n",
       "4                  4.0            0.0            0.5                  0.0   \n",
       "\n",
       "   B_sub_attempts_bout  R_pass_bout  B_pass_bout  R_rev_bout  B_rev_bout  \n",
       "0                  0.0          1.0          0.0         0.0         0.0  \n",
       "1                  0.0          1.0          0.0         0.0         0.0  \n",
       "2                  0.0          0.0          0.0         0.0         0.0  \n",
       "3                  0.0          0.0          0.0         0.0         0.0  \n",
       "4                  1.0          0.0          1.0         1.0         0.0  \n",
       "\n",
       "[5 rows x 106 columns]"
      ]
     },
     "execution_count": 35,
     "metadata": {},
     "output_type": "execute_result"
    }
   ],
   "source": [
    "# view data\n",
    "print('# of Rows: {}'.format(ufc_data.shape[0]))\n",
    "print('# of Columns: {}'.format(ufc_data.shape[1]))\n",
    "ufc_data.head()"
   ]
  },
  {
   "cell_type": "code",
   "execution_count": 36,
   "metadata": {},
   "outputs": [
    {
     "data": {
      "text/plain": [
       "500.0"
      ]
     },
     "execution_count": 36,
     "metadata": {},
     "output_type": "execute_result"
    }
   ],
   "source": [
    "ufc_data.loc[1, 'B_odds']"
   ]
  },
  {
   "cell_type": "markdown",
   "metadata": {},
   "source": [
    "#### Data Cleaning For Analysis\n",
    "Each row in the data set contains the statistics for the red and blue fighter in each bout. I am going to separate the data into a red and blue dataset and then, recombine the datasets so only one fighter is contained per row."
   ]
  },
  {
   "cell_type": "markdown",
   "metadata": {},
   "source": [
    "#### Data Changes \n",
    "1. Eliminate the columns that are not used in the models. \n",
    "2. Some of the statistics capture the differences in characteristics between the fighters. In order to preserve the relationship between difference statistics, I need to flip the sign for the blue fighters so that the difference statistics are consistent. \n",
    "3. I created a new column for difference between the average takedown landed per fifteen minutes for each fighter because I thought this statistic would be important for predicting fight outcomes. \n",
    "4. I replaced the winner column that denoted whether the red or blue column won with a dummy variable that equals 1 when the fighter wins and 0 otherwise. "
   ]
  },
  {
   "cell_type": "code",
   "execution_count": 37,
   "metadata": {},
   "outputs": [],
   "source": [
    "# Make all columns lowercase\n",
    "old_col = ufc_data.columns\n",
    "new_col = [col.lower() for col in ufc_data.columns]\n",
    "ufc_data.columns = new_col"
   ]
  },
  {
   "cell_type": "code",
   "execution_count": 38,
   "metadata": {},
   "outputs": [],
   "source": [
    "flip_columns = ['lose_streak_dif', 'win_streak_dif', 'longest_win_streak_dif', 'win_dif', 'loss_dif', \n",
    "                'total_round_dif', 'total_title_bout_dif', 'ko_dif', 'sub_dif', 'height_dif', \n",
    "                'reach_dif','age_dif', 'sig_str_dif', 'avg_sub_att_dif', 'avg_td_dif']"
   ]
  },
  {
   "cell_type": "code",
   "execution_count": 39,
   "metadata": {},
   "outputs": [],
   "source": [
    "# Add one new difference columns \n",
    "ufc_data['b_td_landed_dif'] = ufc_data['b_avg_td_landed'] - ufc_data['r_avg_td_landed']\n",
    "ufc_data['r_td_landed_dif'] = ufc_data['r_avg_td_landed'] - ufc_data['b_avg_td_landed']"
   ]
  },
  {
   "cell_type": "code",
   "execution_count": 40,
   "metadata": {},
   "outputs": [],
   "source": [
    "# Getting uniform results from difference columns and delete old column difference\n",
    "for col in flip_columns:\n",
    "    b_col = 'b_' + col\n",
    "    r_col = 'r_' + col\n",
    "    ufc_data[b_col] = ufc_data[col]\n",
    "    ufc_data[r_col] = -ufc_data[col]\n",
    "    ufc_data = ufc_data.drop(col, axis=1)"
   ]
  },
  {
   "cell_type": "code",
   "execution_count": 41,
   "metadata": {},
   "outputs": [],
   "source": [
    "# Initialize datasets with shared columns\n",
    "ufc_red = ufc_data[['empty_arena', 'constant_1', 'finish', 'finish_details', 'finish_round', 'finish_round_time',\n",
    "           'total_fight_time_secs', 'winner', 'title_bout', 'weight_class', 'gender', 'no_of_rounds']]\n",
    "ufc_blue = ufc_data[['empty_arena', 'constant_1', 'finish', 'finish_details', 'finish_round', 'finish_round_time',\n",
    "           'total_fight_time_secs', 'winner', 'title_bout', 'weight_class', 'gender', 'no_of_rounds']]"
   ]
  },
  {
   "cell_type": "code",
   "execution_count": 42,
   "metadata": {},
   "outputs": [
    {
     "data": {
      "text/plain": [
       "(1003, 12)"
      ]
     },
     "execution_count": 42,
     "metadata": {},
     "output_type": "execute_result"
    }
   ],
   "source": [
    "ufc_blue.shape"
   ]
  },
  {
   "cell_type": "code",
   "execution_count": 43,
   "metadata": {},
   "outputs": [],
   "source": [
    "# Iterate through columns and assign each column to respective dataframe\n",
    "count = 0\n",
    "for col in ufc_data.columns:\n",
    "    if col[0] == 'r':\n",
    "        ufc_red.insert(2, col[2:], ufc_data[col])\n",
    "    elif col[0] == 'b':\n",
    "        ufc_blue.insert(2, col[2:], ufc_data[col])"
   ]
  },
  {
   "cell_type": "code",
   "execution_count": 44,
   "metadata": {},
   "outputs": [
    {
     "name": "stderr",
     "output_type": "stream",
     "text": [
      "/opt/anaconda3/lib/python3.8/site-packages/pandas/core/indexing.py:845: SettingWithCopyWarning: \n",
      "A value is trying to be set on a copy of a slice from a DataFrame.\n",
      "Try using .loc[row_indexer,col_indexer] = value instead\n",
      "\n",
      "See the caveats in the documentation: https://pandas.pydata.org/pandas-docs/stable/user_guide/indexing.html#returning-a-view-versus-a-copy\n",
      "  self.obj[key] = _infer_fill_value(value)\n",
      "/opt/anaconda3/lib/python3.8/site-packages/pandas/core/indexing.py:966: SettingWithCopyWarning: \n",
      "A value is trying to be set on a copy of a slice from a DataFrame.\n",
      "Try using .loc[row_indexer,col_indexer] = value instead\n",
      "\n",
      "See the caveats in the documentation: https://pandas.pydata.org/pandas-docs/stable/user_guide/indexing.html#returning-a-view-versus-a-copy\n",
      "  self.obj[item] = s\n"
     ]
    }
   ],
   "source": [
    "# Needs help I suppose\n",
    "ufc_red.loc[:,'win_dum'] = 0\n",
    "ufc_blue.loc[:,'win_dum'] = 0"
   ]
  },
  {
   "cell_type": "code",
   "execution_count": 45,
   "metadata": {},
   "outputs": [],
   "source": [
    "for i in ufc_red.index:\n",
    "    if ufc_red.loc[i, 'winner'] == 'Red':\n",
    "        ufc_red.loc[i, 'win_dum'] = 1\n",
    "\n",
    "for i in ufc_blue.index:\n",
    "    if ufc_blue.loc[i, 'winner'] == 'Blue':\n",
    "        ufc_blue.loc[i, 'win_dum'] = 1"
   ]
  },
  {
   "cell_type": "code",
   "execution_count": 46,
   "metadata": {},
   "outputs": [
    {
     "name": "stdout",
     "output_type": "stream",
     "text": [
      "Index(['empty_arena', 'constant_1', 'avg_td_dif', 'avg_sub_att_dif',\n",
      "       'sig_str_dif', 'age_dif', 'reach_dif', 'height_dif', 'sub_dif',\n",
      "       'ko_dif', 'total_title_bout_dif', 'total_round_dif', 'loss_dif',\n",
      "       'win_dif', 'longest_win_streak_dif', 'win_streak_dif',\n",
      "       'lose_streak_dif', 'td_landed_dif', 'rev_bout', 'pass_bout',\n",
      "       'sub_attempts_bout', 'td_pct_bout', 'td_attempted_bout',\n",
      "       'td_landed_bout', 'tot_str_attempted_bout', 'tot_str_landed_bout',\n",
      "       'sig_str_pct_bout', 'sig_str_attempted_bout', 'sig_str_landed_bout',\n",
      "       'kd_bout', 'age', 'weight_lbs', 'reach_cms', 'height_cms', 'stance',\n",
      "       'wins', 'win_by_tko_doctor_stoppage', 'win_by_submission',\n",
      "       'win_by_ko/tko', 'win_by_decision_unanimous', 'win_by_decision_split',\n",
      "       'win_by_decision_majority', 'total_title_bouts', 'total_rounds_fought',\n",
      "       'losses', 'longest_win_streak', 'avg_td_pct', 'avg_td_landed',\n",
      "       'avg_sub_att', 'avg_sig_str_pct', 'avg_sig_str_landed', 'draw',\n",
      "       'current_win_streak', 'current_lose_streak', 'ev', 'odds', 'fighter',\n",
      "       'finish', 'finish_details', 'finish_round', 'finish_round_time',\n",
      "       'total_fight_time_secs', 'winner', 'title_bout', 'weight_class',\n",
      "       'gender', 'no_of_rounds', 'win_dum'],\n",
      "      dtype='object')\n"
     ]
    }
   ],
   "source": [
    "print(ufc_red.columns)"
   ]
  },
  {
   "cell_type": "code",
   "execution_count": 47,
   "metadata": {},
   "outputs": [],
   "source": [
    "# Concatenate the Datasets\n",
    "data = [ufc_red, ufc_blue]\n",
    "ufc = pd.concat(data, ignore_index = True)"
   ]
  },
  {
   "cell_type": "code",
   "execution_count": 48,
   "metadata": {},
   "outputs": [
    {
     "data": {
      "text/plain": [
       "(2006,)"
      ]
     },
     "execution_count": 48,
     "metadata": {},
     "output_type": "execute_result"
    }
   ],
   "source": [
    "ufc['odds'].shape"
   ]
  },
  {
   "cell_type": "markdown",
   "metadata": {},
   "source": [
    "# Add new column for win probability\n",
    "* Positive odds - 100 divided by (the american odds plus 100), multiplied by 100 to give a percentage e.g. american odds of 150 = (100 / (150 + 100)) * 100 = 40%.\n",
    "* Negative odds - Firstly multiply the american odds by -1 and use the positive value in the following formula: american odds divided by (the american odds plus 100), multiplied by 100 to give a percentage e.g. american odds of -300 = (300/(300+100)) * 100 = 75%."
   ]
  },
  {
   "cell_type": "code",
   "execution_count": 49,
   "metadata": {},
   "outputs": [],
   "source": [
    "for i in ufc.index:\n",
    "    odds = ufc.loc[i, 'odds']\n",
    "    if odds < 0:\n",
    "        odds = -odds\n",
    "        prob = (odds/(odds+100)) * 100\n",
    "        ufc.loc[i, 'win_prob'] = prob\n",
    "    elif odds > 0:\n",
    "        prob = (100 / (odds + 100)) * 100\n",
    "        ufc.loc[i, 'win_prob'] = prob\n",
    "    elif odds == 0:\n",
    "        ufc.loc[i, 'win_prob'] = .5"
   ]
  },
  {
   "cell_type": "code",
   "execution_count": 50,
   "metadata": {},
   "outputs": [
    {
     "data": {
      "text/plain": [
       "-770.0"
      ]
     },
     "execution_count": 50,
     "metadata": {},
     "output_type": "execute_result"
    }
   ],
   "source": [
    "ufc.loc[1, 'odds']"
   ]
  },
  {
   "cell_type": "code",
   "execution_count": 51,
   "metadata": {},
   "outputs": [
    {
     "data": {
      "text/plain": [
       "88.50574712643679"
      ]
     },
     "execution_count": 51,
     "metadata": {},
     "output_type": "execute_result"
    }
   ],
   "source": [
    "ufc.loc[1, 'win_prob']"
   ]
  },
  {
   "cell_type": "markdown",
   "metadata": {},
   "source": [
    "Using a conversion table, -770 odds translates to a 88.5% win probability for this fighter. "
   ]
  },
  {
   "cell_type": "code",
   "execution_count": 52,
   "metadata": {},
   "outputs": [],
   "source": [
    "ufc['status'] = 0\n",
    "for i in ufc.index:\n",
    "    if ufc.loc[i, 'odds'] > 0:\n",
    "        ufc.loc[i, 'status'] = 'underdog'\n",
    "    elif ufc.loc[i, 'odds'] < 0:\n",
    "        ufc.loc[i, 'status'] = 'favorite'\n",
    "    else:\n",
    "        ufc.loc[i, 'status'] = 'even'"
   ]
  },
  {
   "cell_type": "code",
   "execution_count": 53,
   "metadata": {},
   "outputs": [
    {
     "data": {
      "text/plain": [
       "(2006, 71)"
      ]
     },
     "execution_count": 53,
     "metadata": {},
     "output_type": "execute_result"
    }
   ],
   "source": [
    "# Test whether dataframe is correct size: 68 total rows plus the three added. \n",
    "ufc.shape"
   ]
  },
  {
   "cell_type": "code",
   "execution_count": 54,
   "metadata": {},
   "outputs": [],
   "source": [
    "ufc.to_csv('clean_ufc.csv', index = False)"
   ]
  },
  {
   "cell_type": "code",
   "execution_count": null,
   "metadata": {},
   "outputs": [],
   "source": []
  }
 ],
 "metadata": {
  "kernelspec": {
   "display_name": "Python 3",
   "language": "python",
   "name": "python3"
  },
  "language_info": {
   "codemirror_mode": {
    "name": "ipython",
    "version": 3
   },
   "file_extension": ".py",
   "mimetype": "text/x-python",
   "name": "python",
   "nbconvert_exporter": "python",
   "pygments_lexer": "ipython3",
   "version": "3.8.3"
  }
 },
 "nbformat": 4,
 "nbformat_minor": 4
}
