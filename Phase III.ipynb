{
 "cells": [
  {
   "cell_type": "markdown",
   "metadata": {},
   "source": [
    "<center> <h1> Phase III </h1> </center>\n",
    "<center> <h3> A pre-registration of analyses for the final report </h3> <center>"
   ]
  },
  {
   "cell_type": "code",
   "execution_count": 1,
   "metadata": {},
   "outputs": [],
   "source": [
    "import pandas as pd\n",
    "import numpy as np\n",
    "import matplotlib.pyplot as plt\n",
    "import seaborn as sns\n",
    "from   sklearn.linear_model import LinearRegression"
   ]
  },
  {
   "cell_type": "markdown",
   "metadata": {},
   "source": [
    "### Overview\n",
    "My project is to create a model that could have historically won money betting on UFC fights using Las Vegas Betting Lines. The analyses I present are trying to find patterns in the data that might help me predict fight outcomes. "
   ]
  },
  {
   "cell_type": "markdown",
   "metadata": {},
   "source": [
    "<h5> Uploading Cleaned Data </h5> \n",
    "The uploaded file is the cleaned version of UFC data that was created in Phase II. It contains statistics from every UFC bout since 2010 and is cleaned of any empty or falsely entered entries. "
   ]
  },
  {
   "cell_type": "code",
   "execution_count": 2,
   "metadata": {},
   "outputs": [
    {
     "name": "stdout",
     "output_type": "stream",
     "text": [
      "# of Rows: 1003\n",
      "# of Columns: 107\n"
     ]
    },
    {
     "data": {
      "text/html": [
       "<div>\n",
       "<style scoped>\n",
       "    .dataframe tbody tr th:only-of-type {\n",
       "        vertical-align: middle;\n",
       "    }\n",
       "\n",
       "    .dataframe tbody tr th {\n",
       "        vertical-align: top;\n",
       "    }\n",
       "\n",
       "    .dataframe thead th {\n",
       "        text-align: right;\n",
       "    }\n",
       "</style>\n",
       "<table border=\"1\" class=\"dataframe\">\n",
       "  <thead>\n",
       "    <tr style=\"text-align: right;\">\n",
       "      <th></th>\n",
       "      <th>Unnamed: 0</th>\n",
       "      <th>R_fighter</th>\n",
       "      <th>B_fighter</th>\n",
       "      <th>R_odds</th>\n",
       "      <th>B_odds</th>\n",
       "      <th>R_ev</th>\n",
       "      <th>B_ev</th>\n",
       "      <th>Winner</th>\n",
       "      <th>title_bout</th>\n",
       "      <th>weight_class</th>\n",
       "      <th>...</th>\n",
       "      <th>R_td_attempted_bout</th>\n",
       "      <th>B_td_attempted_bout</th>\n",
       "      <th>R_td_pct_bout</th>\n",
       "      <th>B_td_pct_bout</th>\n",
       "      <th>R_sub_attempts_bout</th>\n",
       "      <th>B_sub_attempts_bout</th>\n",
       "      <th>R_pass_bout</th>\n",
       "      <th>B_pass_bout</th>\n",
       "      <th>R_rev_bout</th>\n",
       "      <th>B_rev_bout</th>\n",
       "    </tr>\n",
       "  </thead>\n",
       "  <tbody>\n",
       "    <tr>\n",
       "      <th>0</th>\n",
       "      <td>0</td>\n",
       "      <td>Petr Yan</td>\n",
       "      <td>Jose Aldo</td>\n",
       "      <td>-215.0</td>\n",
       "      <td>175.0</td>\n",
       "      <td>46.511628</td>\n",
       "      <td>175.0</td>\n",
       "      <td>Red</td>\n",
       "      <td>True</td>\n",
       "      <td>Bantamweight</td>\n",
       "      <td>...</td>\n",
       "      <td>2.0</td>\n",
       "      <td>1.0</td>\n",
       "      <td>0.5</td>\n",
       "      <td>0.0</td>\n",
       "      <td>0.0</td>\n",
       "      <td>0.0</td>\n",
       "      <td>1.0</td>\n",
       "      <td>0.0</td>\n",
       "      <td>0.0</td>\n",
       "      <td>0.0</td>\n",
       "    </tr>\n",
       "    <tr>\n",
       "      <th>1</th>\n",
       "      <td>1</td>\n",
       "      <td>Amanda Ribas</td>\n",
       "      <td>Paige VanZant</td>\n",
       "      <td>-770.0</td>\n",
       "      <td>500.0</td>\n",
       "      <td>12.987013</td>\n",
       "      <td>500.0</td>\n",
       "      <td>Red</td>\n",
       "      <td>False</td>\n",
       "      <td>Women's Flyweight</td>\n",
       "      <td>...</td>\n",
       "      <td>1.0</td>\n",
       "      <td>0.0</td>\n",
       "      <td>1.0</td>\n",
       "      <td>0.0</td>\n",
       "      <td>1.0</td>\n",
       "      <td>0.0</td>\n",
       "      <td>1.0</td>\n",
       "      <td>0.0</td>\n",
       "      <td>0.0</td>\n",
       "      <td>0.0</td>\n",
       "    </tr>\n",
       "    <tr>\n",
       "      <th>2</th>\n",
       "      <td>2</td>\n",
       "      <td>Volkan Oezdemir</td>\n",
       "      <td>Jiri Prochazka</td>\n",
       "      <td>-159.0</td>\n",
       "      <td>129.0</td>\n",
       "      <td>62.893082</td>\n",
       "      <td>129.0</td>\n",
       "      <td>Blue</td>\n",
       "      <td>False</td>\n",
       "      <td>Light Heavyweight</td>\n",
       "      <td>...</td>\n",
       "      <td>1.0</td>\n",
       "      <td>0.0</td>\n",
       "      <td>0.0</td>\n",
       "      <td>0.0</td>\n",
       "      <td>0.0</td>\n",
       "      <td>0.0</td>\n",
       "      <td>0.0</td>\n",
       "      <td>0.0</td>\n",
       "      <td>0.0</td>\n",
       "      <td>0.0</td>\n",
       "    </tr>\n",
       "    <tr>\n",
       "      <th>3</th>\n",
       "      <td>3</td>\n",
       "      <td>Makwan Amirkhani</td>\n",
       "      <td>Danny Henry</td>\n",
       "      <td>-215.0</td>\n",
       "      <td>170.0</td>\n",
       "      <td>46.511628</td>\n",
       "      <td>170.0</td>\n",
       "      <td>Red</td>\n",
       "      <td>False</td>\n",
       "      <td>Featherweight</td>\n",
       "      <td>...</td>\n",
       "      <td>1.0</td>\n",
       "      <td>0.0</td>\n",
       "      <td>1.0</td>\n",
       "      <td>0.0</td>\n",
       "      <td>1.0</td>\n",
       "      <td>0.0</td>\n",
       "      <td>0.0</td>\n",
       "      <td>0.0</td>\n",
       "      <td>0.0</td>\n",
       "      <td>0.0</td>\n",
       "    </tr>\n",
       "    <tr>\n",
       "      <th>4</th>\n",
       "      <td>4</td>\n",
       "      <td>Martin Day</td>\n",
       "      <td>Davey Grant</td>\n",
       "      <td>-162.0</td>\n",
       "      <td>130.0</td>\n",
       "      <td>61.728395</td>\n",
       "      <td>130.0</td>\n",
       "      <td>Blue</td>\n",
       "      <td>False</td>\n",
       "      <td>Bantamweight</td>\n",
       "      <td>...</td>\n",
       "      <td>1.0</td>\n",
       "      <td>4.0</td>\n",
       "      <td>0.0</td>\n",
       "      <td>0.5</td>\n",
       "      <td>0.0</td>\n",
       "      <td>1.0</td>\n",
       "      <td>0.0</td>\n",
       "      <td>1.0</td>\n",
       "      <td>1.0</td>\n",
       "      <td>0.0</td>\n",
       "    </tr>\n",
       "  </tbody>\n",
       "</table>\n",
       "<p>5 rows × 107 columns</p>\n",
       "</div>"
      ],
      "text/plain": [
       "   Unnamed: 0         R_fighter       B_fighter  R_odds  B_odds       R_ev  \\\n",
       "0           0          Petr Yan       Jose Aldo  -215.0   175.0  46.511628   \n",
       "1           1      Amanda Ribas   Paige VanZant  -770.0   500.0  12.987013   \n",
       "2           2   Volkan Oezdemir  Jiri Prochazka  -159.0   129.0  62.893082   \n",
       "3           3  Makwan Amirkhani     Danny Henry  -215.0   170.0  46.511628   \n",
       "4           4        Martin Day     Davey Grant  -162.0   130.0  61.728395   \n",
       "\n",
       "    B_ev Winner  title_bout       weight_class  ... R_td_attempted_bout  \\\n",
       "0  175.0    Red        True       Bantamweight  ...                 2.0   \n",
       "1  500.0    Red       False  Women's Flyweight  ...                 1.0   \n",
       "2  129.0   Blue       False  Light Heavyweight  ...                 1.0   \n",
       "3  170.0    Red       False      Featherweight  ...                 1.0   \n",
       "4  130.0   Blue       False       Bantamweight  ...                 1.0   \n",
       "\n",
       "   B_td_attempted_bout  R_td_pct_bout  B_td_pct_bout  R_sub_attempts_bout  \\\n",
       "0                  1.0            0.5            0.0                  0.0   \n",
       "1                  0.0            1.0            0.0                  1.0   \n",
       "2                  0.0            0.0            0.0                  0.0   \n",
       "3                  0.0            1.0            0.0                  1.0   \n",
       "4                  4.0            0.0            0.5                  0.0   \n",
       "\n",
       "   B_sub_attempts_bout  R_pass_bout  B_pass_bout  R_rev_bout  B_rev_bout  \n",
       "0                  0.0          1.0          0.0         0.0         0.0  \n",
       "1                  0.0          1.0          0.0         0.0         0.0  \n",
       "2                  0.0          0.0          0.0         0.0         0.0  \n",
       "3                  0.0          0.0          0.0         0.0         0.0  \n",
       "4                  1.0          0.0          1.0         1.0         0.0  \n",
       "\n",
       "[5 rows x 107 columns]"
      ]
     },
     "execution_count": 2,
     "metadata": {},
     "output_type": "execute_result"
    }
   ],
   "source": [
    "# Upload and view data\n",
    "ufc_data = pd.read_csv('cleaned_ufc.csv')\n",
    "print('# of Rows: {}'.format(ufc_data.shape[0]))\n",
    "print('# of Columns: {}'.format(ufc_data.shape[1]))\n",
    "ufc_data.head()"
   ]
  },
  {
   "cell_type": "markdown",
   "metadata": {},
   "source": [
    "#### Data Cleaning For Regression Analyses\n",
    "Each row in the data set contains the statistics for the red and blue fighter in each bout. I am going to separate the data into a red and blue dataset and then, recombine the datasets so only one fighter is contained per row. "
   ]
  },
  {
   "cell_type": "markdown",
   "metadata": {},
   "source": [
    "#### Data Changes \n",
    "1. Eliminate the columns that are not used in the models. \n",
    "2. Some of the statistics capture the differences in characteristics between the fighters. In order to preserve the relationship between difference statistics, I need to flip the sign for the blue fighters so that the difference statistics are consistent. \n",
    "3. I created a new column for difference between the average takedown landed per fifteen minutes for each fighter because I thought this statistic would be important for predicting fight outcomes. \n",
    "4. I replaced the winner column that denoted whether the red or blue column won with a dummy variable that equals 1 when the fighter wins and 0 otherwise. "
   ]
  },
  {
   "cell_type": "code",
   "execution_count": 261,
   "metadata": {},
   "outputs": [],
   "source": [
    "# Flipping signs and creating cew column\n",
    "ufc_data['B_td_landed_dif'] = ufc_data['B_avg_TD_landed'] - ufc_data['R_avg_TD_landed']\n",
    "ufc_data['R_td_landed_dif'] = ufc_data['R_avg_TD_landed'] - ufc_data['B_avg_TD_landed']\n",
    "ufc_data['B_sig_str_dif'] = ufc_data['sig_str_dif']\n",
    "ufc_data['R_sig_str_dif'] = -ufc_data['sig_str_dif']\n",
    "ufc_data['B_reach_dif'] = ufc_data['reach_dif']\n",
    "ufc_data['R_reach_dif'] = -ufc_data['reach_dif']\n",
    "ufc_data['B_total_round_dif'] = ufc_data['total_round_dif']\n",
    "ufc_data['R_total_round_dif'] = -ufc_data['total_round_dif']"
   ]
  },
  {
   "cell_type": "code",
   "execution_count": 262,
   "metadata": {},
   "outputs": [],
   "source": [
    "# Split dataset into red and blue \n",
    "ufc_red = ufc_data[['R_fighter', 'R_odds', 'R_ev', 'Winner', 'weight_class', 'gender', 'R_td_landed_dif', \n",
    "                   'R_sig_str_dif', 'R_reach_dif', 'R_total_round_dif']]\n",
    "ufc_blue = ufc_data[['B_fighter', 'B_odds', 'B_ev', 'Winner', 'weight_class', 'gender', 'B_td_landed_dif', \n",
    "                   'B_sig_str_dif', 'B_reach_dif', 'B_total_round_dif']]"
   ]
  },
  {
   "cell_type": "code",
   "execution_count": 263,
   "metadata": {},
   "outputs": [],
   "source": [
    "# Create dummy variable for winning in each dataframe\n",
    "ufc_red = ufc_red.replace('Red', 1)\n",
    "ufc_red = ufc_red.replace('Blue', 0)\n",
    "ufc_blue = ufc_blue.replace('Blue', 1)\n",
    "ufc_blue = ufc_blue.replace('Red', 0)"
   ]
  },
  {
   "cell_type": "code",
   "execution_count": 264,
   "metadata": {},
   "outputs": [
    {
     "data": {
      "text/plain": [
       "Index(['name', 'odds', 'ev', 'winner', 'weight_class', 'gender',\n",
       "       'td_landed_dif', 'sig_str_dif', 'reach_dif', 'total_round_dif'],\n",
       "      dtype='object')"
      ]
     },
     "execution_count": 264,
     "metadata": {},
     "output_type": "execute_result"
    }
   ],
   "source": [
    "# Rename red columns for the merge\n",
    "ufc_red = ufc_red.rename(columns={'R_fighter': 'name', 'R_odds': 'odds', 'Winner' : 'winner' , 'R_ev' : 'ev', \n",
    "                                  'R_td_landed_dif' : 'td_landed_dif', 'R_sig_str_dif' : 'sig_str_dif', \n",
    "                                  'R_reach_dif' : 'reach_dif', 'R_total_round_dif' : 'total_round_dif'})\n",
    "ufc_red.columns"
   ]
  },
  {
   "cell_type": "code",
   "execution_count": 265,
   "metadata": {},
   "outputs": [
    {
     "data": {
      "text/plain": [
       "Index(['name', 'odds', 'ev', 'winner', 'weight_class', 'gender',\n",
       "       'td_landed_dif', 'sig_str_dif', 'reach_dif', 'total_round_dif'],\n",
       "      dtype='object')"
      ]
     },
     "execution_count": 265,
     "metadata": {},
     "output_type": "execute_result"
    }
   ],
   "source": [
    "# Rename blue columns for the merge\n",
    "ufc_blue = ufc_blue.rename(columns={'B_fighter': 'name', 'B_odds': 'odds', 'Winner' : 'winner', 'B_ev' : 'ev', \n",
    "                                    'B_td_landed_dif' : 'td_landed_dif', 'B_sig_str_dif' : 'sig_str_dif',\n",
    "                                    'B_reach_dif' : 'reach_dif', 'B_total_round_dif' : 'total_round_dif'})\n",
    "ufc_blue.columns"
   ]
  },
  {
   "cell_type": "code",
   "execution_count": 266,
   "metadata": {},
   "outputs": [],
   "source": [
    "# Concatenate the Datasets\n",
    "data = [ufc_red, ufc_blue]\n",
    "ufc = pd.concat(data)"
   ]
  },
  {
   "cell_type": "code",
   "execution_count": 267,
   "metadata": {},
   "outputs": [
    {
     "data": {
      "text/plain": [
       "(2006, 10)"
      ]
     },
     "execution_count": 267,
     "metadata": {},
     "output_type": "execute_result"
    }
   ],
   "source": [
    "# Test whether dataframe is correct size\n",
    "ufc.shape"
   ]
  },
  {
   "cell_type": "markdown",
   "metadata": {},
   "source": [
    "The dataframe is the exact size we would expect if were to split each row and reconcatenate. "
   ]
  },
  {
   "cell_type": "markdown",
   "metadata": {},
   "source": [
    "#### Linear Regression Using Betting Odds\n",
    "The Las Vegas odds set the betting probabilities for each each fight and should be a helpful predictor for fight outcomes. "
   ]
  },
  {
   "cell_type": "code",
   "execution_count": 268,
   "metadata": {},
   "outputs": [],
   "source": [
    "# Reshaping columns that we can run through the linear regression\n",
    "odds = ufc['odds'].values\n",
    "odds = odds.reshape(-1,1)\n",
    "winner = ufc['winner'].values\n",
    "winner = winner.reshape(-1,1)"
   ]
  },
  {
   "cell_type": "code",
   "execution_count": 269,
   "metadata": {},
   "outputs": [
    {
     "name": "stdout",
     "output_type": "stream",
     "text": [
      "Regression coefficient for betting odds: [-0.00064332]\n",
      "Correlation coefficient between betting odds and fight outcomes: -0.3772\n"
     ]
    }
   ],
   "source": [
    "betting_model = LinearRegression()\n",
    "betting_model.fit(odds, winner)\n",
    "print('Regression coefficient for betting odds:', betting_model.coef_[0])\n",
    "print('Correlation coefficient between betting odds and fight outcomes:', round(np.corrcoef(ufc['odds'], ufc['winner'])[0,1],4))"
   ]
  },
  {
   "cell_type": "code",
   "execution_count": 270,
   "metadata": {},
   "outputs": [
    {
     "data": {
      "image/png": "[encoded data removed]",
      "text/plain": [
       "<Figure size 432x288 with 1 Axes>"
      ]
     },
     "metadata": {
      "needs_background": "light"
     },
     "output_type": "display_data"
    }
   ],
   "source": [
    "plt.figure(figsize=(6,4))\n",
    "sns.swarmplot(\n",
    "    x='winner',\n",
    "    y='odds',\n",
    "    data=ufc\n",
    ")\n",
    "plt.show()"
   ]
  },
  {
   "cell_type": "markdown",
   "metadata": {},
   "source": [
    "#### Conclusion: Single Linear Regression with Betting Odds\n",
    "The betting odds without any scaling do not seem to be great predictors of fight outcomes. There are positively correlate so maybe if I can scale the betting odds down or convert them into win probability they will be more helpful. "
   ]
  },
  {
   "cell_type": "markdown",
   "metadata": {},
   "source": [
    "#### Multiple Regression\n",
    "In this model, we will use a few statistics that I think might be useful in predicting fight outcomes: difference in successful takedowns, difference in significant strikes landed, reach difference, and difference in total rounds fought."
   ]
  },
  {
   "cell_type": "code",
   "execution_count": 271,
   "metadata": {},
   "outputs": [
    {
     "name": "stdout",
     "output_type": "stream",
     "text": [
      "Takedown Difference Regression Coefficient 0.010097520352288867\n",
      "Strike Difference Regression Coefficient 0.0015957434124107038\n",
      "Reach Difference Regression Coefficient 0.004447024562230372\n",
      "Experience Difference Regression Coefficient -0.001416340110051907\n"
     ]
    }
   ],
   "source": [
    "# Linear regression using fight differences \n",
    "multi_model = LinearRegression()\n",
    "multi_model.fit(ufc[['td_landed_dif', 'sig_str_dif', 'reach_dif', 'total_round_dif']], ufc['winner'])\n",
    "print('Takedown Difference Regression Coefficient', multi_model.coef_[0])\n",
    "print('Strike Difference Regression Coefficient', multi_model.coef_[1])\n",
    "print('Reach Difference Regression Coefficient', multi_model.coef_[2])\n",
    "print('Experience Difference Regression Coefficient', multi_model.coef_[3])"
   ]
  },
  {
   "cell_type": "code",
   "execution_count": 272,
   "metadata": {},
   "outputs": [
    {
     "name": "stdout",
     "output_type": "stream",
     "text": [
      "Multiple Regression Model Correlation Coefficient 0.123\n"
     ]
    }
   ],
   "source": [
    "# Evaluation correlation coefficient between \n",
    "multi_pred = multi_model.predict(ufc[['td_landed_dif', 'sig_str_dif', 'reach_dif', 'total_round_dif']])\n",
    "print('Multiple Regression Model Correlation Coefficient', round(np.corrcoef(multi_pred, ufc['winner'])[0,1],3))"
   ]
  },
  {
   "cell_type": "markdown",
   "metadata": {},
   "source": [
    "#### Conclusion\n",
    "The multiple regession model was not that effective in predicting fight outcomes as evident by the low correlation coefficient. "
   ]
  },
  {
   "cell_type": "markdown",
   "metadata": {},
   "source": [
    "<h5> Questions for Reviewers </h5>"
   ]
  },
  {
   "cell_type": "markdown",
   "metadata": {},
   "source": [
    "1. Any suggestions for how I could scale my data to get better predictive results. \n",
    "2. Should I subset my data by gender or weight class and focus my model for only a small subset.\n",
    "3. Are you aware of any models that were not discussed in class that might be helpful. "
   ]
  }
 ],
 "metadata": {
  "kernelspec": {
   "display_name": "Python 3",
   "language": "python",
   "name": "python3"
  },
  "language_info": {
   "codemirror_mode": {
    "name": "ipython",
    "version": 3
   },
   "file_extension": ".py",
   "mimetype": "text/x-python",
   "name": "python",
   "nbconvert_exporter": "python",
   "pygments_lexer": "ipython3",
   "version": "3.8.3"
  }
 },
 "nbformat": 4,
 "nbformat_minor": 4
}
