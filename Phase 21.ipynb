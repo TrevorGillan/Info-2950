{
 "cells": [
  {
   "cell_type": "markdown",
   "metadata": {},
   "source": [
    "<div align=center><h1>Phase Two</h1>"
   ]
  },
  {
   "cell_type": "markdown",
   "metadata": {},
   "source": [
    "<h5>Dataset and Research Question</h5>\n",
    "I have chosen Ultimate Fighting Championship data that details fight statistics from every bout since 2010. If you are unfamiliar with the UFC, it is the biggest cage fighting organization in the world. My research question is can we build a model that historically would have won money on UFC fights using Las Vegas gambling odds. Can the house be beat?"
   ]
  },
  {
   "cell_type": "code",
   "execution_count": 3,
   "metadata": {},
   "outputs": [],
   "source": [
    "import pandas as pd\n",
    "import numpy as np\n",
    "import matplotlib.pyplot as plt\n",
    "from scipy import stats"
   ]
  },
  {
   "cell_type": "markdown",
   "metadata": {},
   "source": [
    "<h5>Data Collection</h5>\n",
    "In the code cell above, we uploaded a UFC csv file. The upcoming-event csv contains the statistics from the most recent event that has not yet been merged with the rest of the data. "
   ]
  },
  {
   "cell_type": "code",
   "execution_count": 4,
   "metadata": {},
   "outputs": [
    {
     "data": {
      "text/html": [
       "<div>\n",
       "<style scoped>\n",
       "    .dataframe tbody tr th:only-of-type {\n",
       "        vertical-align: middle;\n",
       "    }\n",
       "\n",
       "    .dataframe tbody tr th {\n",
       "        vertical-align: top;\n",
       "    }\n",
       "\n",
       "    .dataframe thead th {\n",
       "        text-align: right;\n",
       "    }\n",
       "</style>\n",
       "<table border=\"1\" class=\"dataframe\">\n",
       "  <thead>\n",
       "    <tr style=\"text-align: right;\">\n",
       "      <th></th>\n",
       "      <th>R_fighter</th>\n",
       "      <th>B_fighter</th>\n",
       "      <th>R_odds</th>\n",
       "      <th>B_odds</th>\n",
       "      <th>R_ev</th>\n",
       "      <th>B_ev</th>\n",
       "      <th>date</th>\n",
       "      <th>location</th>\n",
       "      <th>country</th>\n",
       "      <th>Winner</th>\n",
       "      <th>...</th>\n",
       "      <th>R_td_attempted_bout</th>\n",
       "      <th>B_td_attempted_bout</th>\n",
       "      <th>R_td_pct_bout</th>\n",
       "      <th>B_td_pct_bout</th>\n",
       "      <th>R_sub_attempts_bout</th>\n",
       "      <th>B_sub_attempts_bout</th>\n",
       "      <th>R_pass_bout</th>\n",
       "      <th>B_pass_bout</th>\n",
       "      <th>R_rev_bout</th>\n",
       "      <th>B_rev_bout</th>\n",
       "    </tr>\n",
       "  </thead>\n",
       "  <tbody>\n",
       "    <tr>\n",
       "      <th>0</th>\n",
       "      <td>Kamaru Usman</td>\n",
       "      <td>Gilbert Burns</td>\n",
       "      <td>-278.0</td>\n",
       "      <td>228.0</td>\n",
       "      <td>35.97122302</td>\n",
       "      <td>228.000000</td>\n",
       "      <td>2/13/21</td>\n",
       "      <td>Las Vegas, Nevada, USA</td>\n",
       "      <td>USA</td>\n",
       "      <td>NaN</td>\n",
       "      <td>...</td>\n",
       "      <td>NaN</td>\n",
       "      <td>NaN</td>\n",
       "      <td>NaN</td>\n",
       "      <td>NaN</td>\n",
       "      <td>NaN</td>\n",
       "      <td>NaN</td>\n",
       "      <td>NaN</td>\n",
       "      <td>NaN</td>\n",
       "      <td>NaN</td>\n",
       "      <td>NaN</td>\n",
       "    </tr>\n",
       "    <tr>\n",
       "      <th>1</th>\n",
       "      <td>Maycee Barber</td>\n",
       "      <td>Alexa Grasso</td>\n",
       "      <td>-107.0</td>\n",
       "      <td>-107.0</td>\n",
       "      <td>93.45794393</td>\n",
       "      <td>93.457944</td>\n",
       "      <td>2/13/21</td>\n",
       "      <td>Las Vegas, Nevada, USA</td>\n",
       "      <td>USA</td>\n",
       "      <td>NaN</td>\n",
       "      <td>...</td>\n",
       "      <td>NaN</td>\n",
       "      <td>NaN</td>\n",
       "      <td>NaN</td>\n",
       "      <td>NaN</td>\n",
       "      <td>NaN</td>\n",
       "      <td>NaN</td>\n",
       "      <td>NaN</td>\n",
       "      <td>NaN</td>\n",
       "      <td>NaN</td>\n",
       "      <td>NaN</td>\n",
       "    </tr>\n",
       "    <tr>\n",
       "      <th>2</th>\n",
       "      <td>Kelvin Gastelum</td>\n",
       "      <td>Ian Heinisch</td>\n",
       "      <td>-205.0</td>\n",
       "      <td>174.0</td>\n",
       "      <td>48.7804878</td>\n",
       "      <td>174.000000</td>\n",
       "      <td>2/13/21</td>\n",
       "      <td>Las Vegas, Nevada, USA</td>\n",
       "      <td>USA</td>\n",
       "      <td>NaN</td>\n",
       "      <td>...</td>\n",
       "      <td>NaN</td>\n",
       "      <td>NaN</td>\n",
       "      <td>NaN</td>\n",
       "      <td>NaN</td>\n",
       "      <td>NaN</td>\n",
       "      <td>NaN</td>\n",
       "      <td>NaN</td>\n",
       "      <td>NaN</td>\n",
       "      <td>NaN</td>\n",
       "      <td>NaN</td>\n",
       "    </tr>\n",
       "    <tr>\n",
       "      <th>3</th>\n",
       "      <td>Ricky Simon</td>\n",
       "      <td>Brian Kelleher</td>\n",
       "      <td>-253.0</td>\n",
       "      <td>210.0</td>\n",
       "      <td>39.5256917</td>\n",
       "      <td>210.000000</td>\n",
       "      <td>2/13/21</td>\n",
       "      <td>Las Vegas, Nevada, USA</td>\n",
       "      <td>USA</td>\n",
       "      <td>NaN</td>\n",
       "      <td>...</td>\n",
       "      <td>NaN</td>\n",
       "      <td>NaN</td>\n",
       "      <td>NaN</td>\n",
       "      <td>NaN</td>\n",
       "      <td>NaN</td>\n",
       "      <td>NaN</td>\n",
       "      <td>NaN</td>\n",
       "      <td>NaN</td>\n",
       "      <td>NaN</td>\n",
       "      <td>NaN</td>\n",
       "    </tr>\n",
       "    <tr>\n",
       "      <th>4</th>\n",
       "      <td>Maki Pitolo</td>\n",
       "      <td>Julian Marquez</td>\n",
       "      <td>145.0</td>\n",
       "      <td>-177.0</td>\n",
       "      <td>145</td>\n",
       "      <td>56.497175</td>\n",
       "      <td>2/13/21</td>\n",
       "      <td>Las Vegas, Nevada, USA</td>\n",
       "      <td>USA</td>\n",
       "      <td>NaN</td>\n",
       "      <td>...</td>\n",
       "      <td>NaN</td>\n",
       "      <td>NaN</td>\n",
       "      <td>NaN</td>\n",
       "      <td>NaN</td>\n",
       "      <td>NaN</td>\n",
       "      <td>NaN</td>\n",
       "      <td>NaN</td>\n",
       "      <td>NaN</td>\n",
       "      <td>NaN</td>\n",
       "      <td>NaN</td>\n",
       "    </tr>\n",
       "  </tbody>\n",
       "</table>\n",
       "<p>5 rows × 137 columns</p>\n",
       "</div>"
      ],
      "text/plain": [
       "         R_fighter       B_fighter  R_odds  B_odds         R_ev        B_ev  \\\n",
       "0     Kamaru Usman   Gilbert Burns  -278.0   228.0  35.97122302  228.000000   \n",
       "1    Maycee Barber    Alexa Grasso  -107.0  -107.0  93.45794393   93.457944   \n",
       "2  Kelvin Gastelum    Ian Heinisch  -205.0   174.0   48.7804878  174.000000   \n",
       "3      Ricky Simon  Brian Kelleher  -253.0   210.0   39.5256917  210.000000   \n",
       "4      Maki Pitolo  Julian Marquez   145.0  -177.0          145   56.497175   \n",
       "\n",
       "      date                location country Winner  ... R_td_attempted_bout  \\\n",
       "0  2/13/21  Las Vegas, Nevada, USA     USA    NaN  ...                 NaN   \n",
       "1  2/13/21  Las Vegas, Nevada, USA     USA    NaN  ...                 NaN   \n",
       "2  2/13/21  Las Vegas, Nevada, USA     USA    NaN  ...                 NaN   \n",
       "3  2/13/21  Las Vegas, Nevada, USA     USA    NaN  ...                 NaN   \n",
       "4  2/13/21  Las Vegas, Nevada, USA     USA    NaN  ...                 NaN   \n",
       "\n",
       "  B_td_attempted_bout R_td_pct_bout  B_td_pct_bout  R_sub_attempts_bout  \\\n",
       "0                 NaN           NaN            NaN                  NaN   \n",
       "1                 NaN           NaN            NaN                  NaN   \n",
       "2                 NaN           NaN            NaN                  NaN   \n",
       "3                 NaN           NaN            NaN                  NaN   \n",
       "4                 NaN           NaN            NaN                  NaN   \n",
       "\n",
       "   B_sub_attempts_bout  R_pass_bout  B_pass_bout  R_rev_bout  B_rev_bout  \n",
       "0                  NaN          NaN          NaN         NaN         NaN  \n",
       "1                  NaN          NaN          NaN         NaN         NaN  \n",
       "2                  NaN          NaN          NaN         NaN         NaN  \n",
       "3                  NaN          NaN          NaN         NaN         NaN  \n",
       "4                  NaN          NaN          NaN         NaN         NaN  \n",
       "\n",
       "[5 rows x 137 columns]"
      ]
     },
     "execution_count": 4,
     "metadata": {},
     "output_type": "execute_result"
    }
   ],
   "source": [
    "# Upload Old UFC Data\n",
    "old_data = pd.read_csv(\"ufc-master.csv\", low_memory=False)\n",
    "\n",
    "# Upload UFC Data From Recent Fights\n",
    "merge_data = pd.read_csv(\"upcoming-event.csv\", low_memory=False)\n",
    "\n",
    "# Merge Dataframes and Display with Head\n",
    "frames = [merge_data, old_data]\n",
    "ufc_data = pd.concat(frames)\n",
    "ufc_data.head()"
   ]
  },
  {
   "cell_type": "markdown",
   "metadata": {},
   "source": [
    "<h5>Data Cleaning: Removing Columns</h5>\n",
    "The original dataset has 137 columns and I am removing those that I suspect won't be useful in predicting fight outcomes like fight location or date. I removed some columns that might be useful but only for a small number of fighters. For example, only the top 15 fighters are given a pound for pound ranking and the vast majority of fighters are not ranked in this category. I did not want to consider the fighter's rankings because they are subjective, only some fighters are ranked, and the rankings can be distorted if there a lot of inactive fighters in that weight class. "
   ]
  },
  {
   "cell_type": "code",
   "execution_count": 5,
   "metadata": {},
   "outputs": [
    {
     "name": "stdout",
     "output_type": "stream",
     "text": [
      "Old Column Count: 137\n",
      "New Column Count: 106\n"
     ]
    }
   ],
   "source": [
    "old_col_count = ufc_data.shape\n",
    "drop_col = ['date', 'location', 'country', 'B_match_weightclass_rank', 'R_match_weightclass_rank', \n",
    "            \"R_Women's Flyweight_rank\", \"B_Women's Flyweight_rank\", \"B_Women's Featherweight_rank\", \n",
    "            \"R_Women's Featherweight_rank\", \"R_Women's Strawweight_rank\", \"B_Women's Strawweight_rank\",\n",
    "            \"B_Women's Bantamweight_rank\", \"R_Women's Bantamweight_rank\", 'B_Heavyweight_rank', \n",
    "            'R_Heavyweight_rank', 'B_Light Heavyweight_rank', 'R_Light Heavyweight_rank',\n",
    "            'B_Middleweight_rank', 'R_Middleweight_rank', 'B_Welterweight_rank', 'R_Welterweight_rank', \n",
    "            'B_Lightweight_rank', 'R_Lightweight_rank', 'B_Featherweight_rank', 'R_Featherweight_rank', \n",
    "            'B_Bantamweight_rank', 'R_Bantamweight_rank', 'B_Flyweight_rank', 'R_Flyweight_rank',\n",
    "            'B_Pound-for-Pound_rank', 'R_Pound-for-Pound_rank']\n",
    "ufc_data = ufc_data.drop(drop_col, axis=1)\n",
    "new_col_count = ufc_data.shape\n",
    "print('Old Column Count: {}'.format(old_col_count[1]))\n",
    "print('New Column Count: {}'.format(new_col_count[1]))"
   ]
  },
  {
   "cell_type": "markdown",
   "metadata": {},
   "source": [
    "<h5>Data Cleaning: Removing Rows</h5>\n",
    "The dataset contains many rows that are not completed. I will be removing those rows because I think the rest of the columns have the ability to help predict fight outcomes. "
   ]
  },
  {
   "cell_type": "code",
   "execution_count": 6,
   "metadata": {},
   "outputs": [],
   "source": [
    "# Drop all rows that are not completed. \n",
    "ufc_data = ufc_data.dropna(axis=0, how='any')\n",
    "ufc_data = ufc_data.reset_index()\n",
    "ufc_data = ufc_data.drop('index', axis=1)"
   ]
  },
  {
   "cell_type": "code",
   "execution_count": 7,
   "metadata": {},
   "outputs": [
    {
     "name": "stdout",
     "output_type": "stream",
     "text": [
      "[]\n"
     ]
    }
   ],
   "source": [
    "# No empty cells are left in dataframe\n",
    "empty = np.where(pd.isnull(ufc_data))\n",
    "print(empty[0])"
   ]
  },
  {
   "cell_type": "code",
   "execution_count": 9,
   "metadata": {},
   "outputs": [],
   "source": [
    "# Importing cleaned dataset\n",
    "ufc_data.to_csv(\"cleaned_ufc.csv\")"
   ]
  },
  {
   "cell_type": "code",
   "execution_count": 70,
   "metadata": {},
   "outputs": [
    {
     "name": "stdout",
     "output_type": "stream",
     "text": [
      "Bytes: 850672\n"
     ]
    }
   ],
   "source": [
    "# How Big is the Dataset After Cleaning\n",
    "print('Bytes: {}'.format(ufc_data.memory_usage(index=True).sum()))"
   ]
  },
  {
   "cell_type": "markdown",
   "metadata": {},
   "source": [
    "### Data Description\n",
    "1. What are the observations (rows) and the attributes (columns)?   \n",
    "Each observation is a fight, and each row contains both the fighters’ information. The attributes capture the statistics that were available at the time of the event for each fighter. Most of the information is the rate of a certain action per fifteen minutes. For example, column B_avg_SIG_STR_landed displays a fighter’s significant strikes landed per fifteen minutes. \n",
    "1. Why was this dataset created?     \n",
    "The dataset was created on Kaggle and it hosts competitions for predicting the outcomes for upcoming UFC fights. There are several authors and the most prominent custodian, whose GitHub name is Shortlikeafox, web scraped the gambling data in the hopes of creating a profitable UFC gambling algorithm using machine learning. \n",
    "1. Who funded the creation of the dataset?    \n",
    "The raw data comes from UFCStats.com or sportsbets.com. Sportsbets.com is a online sportsbooks that makes money through setting gambling lines where they are likely to make money. The UFC hosts and televises fights and keeping record is an important part of nerdy fan interaction with the sport. The data scientists that cobbled the dataset together did not state that they were compensated. However, I'd imagine that Shortlikeafox is hoping to create a profitable betting algorithm. \n",
    "1. What processes might have influenced what data was observed and recorded and what was not?    \n",
    "The UFC is where only well-established fighters perform. All the fighters listed in the dataset have an extensive amateur career that is not included.  The data from any fight outside of the UFC is not considered because there is no central Mixed Martial arts database and other organizations have different rules that would affect a fighter’s data. \n",
    "1. What preprocessing was done, and how did the data come to be in the form that you are using?    \n",
    "The dataset comes from three different datasets that were combined. Rajeev Warrier’s dataset was the original dataset, and it contains data for every bout from 1993-2019. Before 2010, the data was improperly recorded and is not included in the final version. Mart Jurisoo compiled the ranking for every fighter. Shortlikeafox scraped the gambling dataset and concatenated the three together to create the final version. \n",
    "1. If people are involved, were they aware of the data collection and if so, what purpose did they expect the data to be used for?    \n",
    "It is not clear whether the fighters were aware of the data collection. I am assuming they are indifferent because they voluntarily put themselves in a position where the whole world can watch them get beat up. \n",
    "1. Where can your raw source data be found, if applicable? Provide a link to the raw data?   \n",
    "UFC stats: http://www.ufcstats.com/statistics/events/completed    \n",
    "Gambling Data: https://www.sportsbet.com/bet-types/exotic-bet.html \n"
   ]
  },
  {
   "cell_type": "markdown",
   "metadata": {},
   "source": [
    "### Data Limitations\n",
    "Other users have complained that the dataset mixes up which fighter is the red or blue fighter. This a problem because it would incorrectly swap the fighters' data. The sample size for most fighters is small. Most fighters only fight two times a year and because of the sport’s violent nature, they often have short careers. This leaves most fighters with only a couple fights that we can use to statistically evaluate them. "
   ]
  },
  {
   "cell_type": "markdown",
   "metadata": {},
   "source": [
    "### Exploratory Data Analysis"
   ]
  },
  {
   "cell_type": "code",
   "execution_count": 71,
   "metadata": {},
   "outputs": [
    {
     "name": "stdout",
     "output_type": "stream",
     "text": [
      "Mean Return on a $100 bet for a Red Fighter Win: 95.47\n",
      "Mean Return on a $100 bet for a Blue Fighter Win: 130.00\n"
     ]
    }
   ],
   "source": [
    "# Means for Important Statistics\n",
    "print('Mean Return on a $100 bet for a Red Fighter Win: {:.2f}'.format(ufc_data['R_ev'].mean()))\n",
    "print('Mean Return on a $100 bet for a Blue Fighter Win: {:.2f}'.format(ufc_data['B_ev'].median()))"
   ]
  },
  {
   "cell_type": "code",
   "execution_count": 72,
   "metadata": {},
   "outputs": [
    {
     "data": {
      "image/png": "[encoded data removed]",
      "text/plain": [
       "<Figure size 432x288 with 1 Axes>"
      ]
     },
     "metadata": {
      "needs_background": "light"
     },
     "output_type": "display_data"
    }
   ],
   "source": [
    "# Scatter Plot Between Total Career Wins and Betting Odds\n",
    "plt.scatter(ufc_data['R_wins'], ufc_data['R_odds'])\n",
    "plt.xlabel('# of Wins')\n",
    "plt.ylabel('Gambling Odds')\n",
    "plt.title('Gambling Odds vs Number of Wins')\n",
    "plt.show()"
   ]
  },
  {
   "cell_type": "code",
   "execution_count": 73,
   "metadata": {},
   "outputs": [
    {
     "name": "stdout",
     "output_type": "stream",
     "text": [
      "Covariance between Win Streak and Significant Strikes 6.02\n",
      "Correlation between Win Streak and Significant Strikes 0.16\n"
     ]
    }
   ],
   "source": [
    "# Covariance and Correlation between Longest Win Streak and Significant Strikes Landed Per Fifteen\n",
    "print('Covariance between Win Streak and Significant Strikes {:.2f}'.format(ufc_data['R_longest_win_streak'].cov(ufc_data['R_avg_SIG_STR_landed'])))\n",
    "print('Correlation between Win Streak and Significant Strikes {:.2f}'.format(ufc_data['R_longest_win_streak'].corr(ufc_data['R_avg_SIG_STR_landed'])))"
   ]
  },
  {
   "cell_type": "markdown",
   "metadata": {},
   "source": [
    "### Questions for Reviewers\n",
    "1. Is attempting to build a model for predicting fight outcomes, too ambitious? \n",
    "1. Do you have any suggestions for ways I can further clean my data?\n",
    "1. Are you aware of any good resources for building a prediction model?"
   ]
  }
 ],
 "metadata": {
  "kernelspec": {
   "display_name": "Python 3",
   "language": "python",
   "name": "python3"
  },
  "language_info": {
   "codemirror_mode": {
    "name": "ipython",
    "version": 3
   },
   "file_extension": ".py",
   "mimetype": "text/x-python",
   "name": "python",
   "nbconvert_exporter": "python",
   "pygments_lexer": "ipython3",
   "version": "3.8.3"
  }
 },
 "nbformat": 4,
 "nbformat_minor": 4
}
